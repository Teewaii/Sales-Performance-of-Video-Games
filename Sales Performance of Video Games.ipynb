{
 "cells": [
  {
   "cell_type": "markdown",
   "id": "e0f9a3d6",
   "metadata": {
    "id": "9e827ec9"
   },
   "source": [
    "### Import libraries, regressors and classifier needed for the exploratory data analysis"
   ]
  },
  {
   "cell_type": "code",
   "execution_count": 122,
   "id": "eddf40e2",
   "metadata": {
    "id": "eddf40e2"
   },
   "outputs": [],
   "source": [
    "from sklearn.tree import DecisionTreeClassifier\n",
    "from sklearn.ensemble import RandomForestRegressor\n",
    "from sklearn.neighbors import KNeighborsRegressor\n",
    "from sklearn.ensemble import GradientBoostingRegressor\n",
    "from sklearn.linear_model import Lasso\n",
    "from sklearn.svm import SVR\n",
    "from sklearn import tree\n",
    "\n",
    "from sklearn.model_selection import train_test_split \n",
    "from sklearn.preprocessing import StandardScaler \n",
    "\n",
    "#Importing the linear regression libraries and mean squared error libraries\n",
    "from sklearn.linear_model import LinearRegression \n",
    "from sklearn.metrics import mean_absolute_error,mean_squared_error,r2_score "
   ]
  },
  {
   "cell_type": "code",
   "execution_count": 123,
   "id": "fd282f66",
   "metadata": {
    "id": "fd282f66"
   },
   "outputs": [],
   "source": [
    "import pandas as pd\n",
    "import numpy as np\n",
    "import seaborn as sns\n",
    "import matplotlib.pyplot as plt\n",
    "%matplotlib inline\n",
    "import warnings\n",
    "warnings.filterwarnings(\"ignore\")"
   ]
  },
  {
   "cell_type": "markdown",
   "id": "cdb6c18f",
   "metadata": {},
   "source": [
    "### Importing the Video games dataset"
   ]
  },
  {
   "cell_type": "code",
   "execution_count": 124,
   "id": "ccc47556",
   "metadata": {
    "colab": {
     "base_uri": "https://localhost:8080/",
     "height": 661
    },
    "id": "ccc47556",
    "outputId": "e11725ba-9daa-4d63-d104-e5e520d7b26a"
   },
   "outputs": [],
   "source": [
    "game_data = pd.read_csv(\"Video_Games.csv\")\n",
    "\n",
    "#Create a fallback copy of the original dataset \n",
    "game_sales_data = game_data.copy()"
   ]
  },
  {
   "cell_type": "code",
   "execution_count": 125,
   "id": "c86fb693",
   "metadata": {},
   "outputs": [
    {
     "data": {
      "text/html": [
       "<div>\n",
       "<style scoped>\n",
       "    .dataframe tbody tr th:only-of-type {\n",
       "        vertical-align: middle;\n",
       "    }\n",
       "\n",
       "    .dataframe tbody tr th {\n",
       "        vertical-align: top;\n",
       "    }\n",
       "\n",
       "    .dataframe thead th {\n",
       "        text-align: right;\n",
       "    }\n",
       "</style>\n",
       "<table border=\"1\" class=\"dataframe\">\n",
       "  <thead>\n",
       "    <tr style=\"text-align: right;\">\n",
       "      <th></th>\n",
       "      <th>Name</th>\n",
       "      <th>Platform</th>\n",
       "      <th>Year_of_Release</th>\n",
       "      <th>Genre</th>\n",
       "      <th>Publisher</th>\n",
       "      <th>NA_Sales</th>\n",
       "      <th>EU_Sales</th>\n",
       "      <th>JP_Sales</th>\n",
       "      <th>Other_Sales</th>\n",
       "      <th>Global_Sales</th>\n",
       "      <th>Critic_Score</th>\n",
       "      <th>Critic_Count</th>\n",
       "      <th>User_Score</th>\n",
       "      <th>User_Count</th>\n",
       "      <th>Developer</th>\n",
       "      <th>Rating</th>\n",
       "    </tr>\n",
       "  </thead>\n",
       "  <tbody>\n",
       "    <tr>\n",
       "      <th>0</th>\n",
       "      <td>Wii Sports</td>\n",
       "      <td>Wii</td>\n",
       "      <td>2006.0</td>\n",
       "      <td>Sports</td>\n",
       "      <td>Nintendo</td>\n",
       "      <td>41.36</td>\n",
       "      <td>28.96</td>\n",
       "      <td>3.77</td>\n",
       "      <td>8.45</td>\n",
       "      <td>82.53</td>\n",
       "      <td>76.0</td>\n",
       "      <td>51.0</td>\n",
       "      <td>8</td>\n",
       "      <td>322.0</td>\n",
       "      <td>Nintendo</td>\n",
       "      <td>E</td>\n",
       "    </tr>\n",
       "    <tr>\n",
       "      <th>1</th>\n",
       "      <td>Super Mario Bros.</td>\n",
       "      <td>NES</td>\n",
       "      <td>1985.0</td>\n",
       "      <td>Platform</td>\n",
       "      <td>Nintendo</td>\n",
       "      <td>29.08</td>\n",
       "      <td>3.58</td>\n",
       "      <td>6.81</td>\n",
       "      <td>0.77</td>\n",
       "      <td>40.24</td>\n",
       "      <td>NaN</td>\n",
       "      <td>NaN</td>\n",
       "      <td>NaN</td>\n",
       "      <td>NaN</td>\n",
       "      <td>NaN</td>\n",
       "      <td>NaN</td>\n",
       "    </tr>\n",
       "    <tr>\n",
       "      <th>2</th>\n",
       "      <td>Mario Kart Wii</td>\n",
       "      <td>Wii</td>\n",
       "      <td>2008.0</td>\n",
       "      <td>Racing</td>\n",
       "      <td>Nintendo</td>\n",
       "      <td>15.68</td>\n",
       "      <td>12.76</td>\n",
       "      <td>3.79</td>\n",
       "      <td>3.29</td>\n",
       "      <td>35.52</td>\n",
       "      <td>82.0</td>\n",
       "      <td>73.0</td>\n",
       "      <td>8.3</td>\n",
       "      <td>709.0</td>\n",
       "      <td>Nintendo</td>\n",
       "      <td>E</td>\n",
       "    </tr>\n",
       "    <tr>\n",
       "      <th>3</th>\n",
       "      <td>Wii Sports Resort</td>\n",
       "      <td>Wii</td>\n",
       "      <td>2009.0</td>\n",
       "      <td>Sports</td>\n",
       "      <td>Nintendo</td>\n",
       "      <td>15.61</td>\n",
       "      <td>10.93</td>\n",
       "      <td>3.28</td>\n",
       "      <td>2.95</td>\n",
       "      <td>32.77</td>\n",
       "      <td>80.0</td>\n",
       "      <td>73.0</td>\n",
       "      <td>8</td>\n",
       "      <td>192.0</td>\n",
       "      <td>Nintendo</td>\n",
       "      <td>E</td>\n",
       "    </tr>\n",
       "    <tr>\n",
       "      <th>4</th>\n",
       "      <td>Pokemon Red/Pokemon Blue</td>\n",
       "      <td>GB</td>\n",
       "      <td>1996.0</td>\n",
       "      <td>Role-Playing</td>\n",
       "      <td>Nintendo</td>\n",
       "      <td>11.27</td>\n",
       "      <td>8.89</td>\n",
       "      <td>10.22</td>\n",
       "      <td>1.00</td>\n",
       "      <td>31.37</td>\n",
       "      <td>NaN</td>\n",
       "      <td>NaN</td>\n",
       "      <td>NaN</td>\n",
       "      <td>NaN</td>\n",
       "      <td>NaN</td>\n",
       "      <td>NaN</td>\n",
       "    </tr>\n",
       "    <tr>\n",
       "      <th>...</th>\n",
       "      <td>...</td>\n",
       "      <td>...</td>\n",
       "      <td>...</td>\n",
       "      <td>...</td>\n",
       "      <td>...</td>\n",
       "      <td>...</td>\n",
       "      <td>...</td>\n",
       "      <td>...</td>\n",
       "      <td>...</td>\n",
       "      <td>...</td>\n",
       "      <td>...</td>\n",
       "      <td>...</td>\n",
       "      <td>...</td>\n",
       "      <td>...</td>\n",
       "      <td>...</td>\n",
       "      <td>...</td>\n",
       "    </tr>\n",
       "    <tr>\n",
       "      <th>16714</th>\n",
       "      <td>Samurai Warriors: Sanada Maru</td>\n",
       "      <td>PS3</td>\n",
       "      <td>2016.0</td>\n",
       "      <td>Action</td>\n",
       "      <td>Tecmo Koei</td>\n",
       "      <td>0.00</td>\n",
       "      <td>0.00</td>\n",
       "      <td>0.01</td>\n",
       "      <td>0.00</td>\n",
       "      <td>0.01</td>\n",
       "      <td>NaN</td>\n",
       "      <td>NaN</td>\n",
       "      <td>NaN</td>\n",
       "      <td>NaN</td>\n",
       "      <td>NaN</td>\n",
       "      <td>NaN</td>\n",
       "    </tr>\n",
       "    <tr>\n",
       "      <th>16715</th>\n",
       "      <td>LMA Manager 2007</td>\n",
       "      <td>X360</td>\n",
       "      <td>2006.0</td>\n",
       "      <td>Sports</td>\n",
       "      <td>Codemasters</td>\n",
       "      <td>0.00</td>\n",
       "      <td>0.01</td>\n",
       "      <td>0.00</td>\n",
       "      <td>0.00</td>\n",
       "      <td>0.01</td>\n",
       "      <td>NaN</td>\n",
       "      <td>NaN</td>\n",
       "      <td>NaN</td>\n",
       "      <td>NaN</td>\n",
       "      <td>NaN</td>\n",
       "      <td>NaN</td>\n",
       "    </tr>\n",
       "    <tr>\n",
       "      <th>16716</th>\n",
       "      <td>Haitaka no Psychedelica</td>\n",
       "      <td>PSV</td>\n",
       "      <td>2016.0</td>\n",
       "      <td>Adventure</td>\n",
       "      <td>Idea Factory</td>\n",
       "      <td>0.00</td>\n",
       "      <td>0.00</td>\n",
       "      <td>0.01</td>\n",
       "      <td>0.00</td>\n",
       "      <td>0.01</td>\n",
       "      <td>NaN</td>\n",
       "      <td>NaN</td>\n",
       "      <td>NaN</td>\n",
       "      <td>NaN</td>\n",
       "      <td>NaN</td>\n",
       "      <td>NaN</td>\n",
       "    </tr>\n",
       "    <tr>\n",
       "      <th>16717</th>\n",
       "      <td>Spirits &amp; Spells</td>\n",
       "      <td>GBA</td>\n",
       "      <td>2003.0</td>\n",
       "      <td>Platform</td>\n",
       "      <td>Wanadoo</td>\n",
       "      <td>0.01</td>\n",
       "      <td>0.00</td>\n",
       "      <td>0.00</td>\n",
       "      <td>0.00</td>\n",
       "      <td>0.01</td>\n",
       "      <td>NaN</td>\n",
       "      <td>NaN</td>\n",
       "      <td>NaN</td>\n",
       "      <td>NaN</td>\n",
       "      <td>NaN</td>\n",
       "      <td>NaN</td>\n",
       "    </tr>\n",
       "    <tr>\n",
       "      <th>16718</th>\n",
       "      <td>Winning Post 8 2016</td>\n",
       "      <td>PSV</td>\n",
       "      <td>2016.0</td>\n",
       "      <td>Simulation</td>\n",
       "      <td>Tecmo Koei</td>\n",
       "      <td>0.00</td>\n",
       "      <td>0.00</td>\n",
       "      <td>0.01</td>\n",
       "      <td>0.00</td>\n",
       "      <td>0.01</td>\n",
       "      <td>NaN</td>\n",
       "      <td>NaN</td>\n",
       "      <td>NaN</td>\n",
       "      <td>NaN</td>\n",
       "      <td>NaN</td>\n",
       "      <td>NaN</td>\n",
       "    </tr>\n",
       "  </tbody>\n",
       "</table>\n",
       "<p>16719 rows × 16 columns</p>\n",
       "</div>"
      ],
      "text/plain": [
       "                                Name Platform  Year_of_Release         Genre  \\\n",
       "0                         Wii Sports      Wii           2006.0        Sports   \n",
       "1                  Super Mario Bros.      NES           1985.0      Platform   \n",
       "2                     Mario Kart Wii      Wii           2008.0        Racing   \n",
       "3                  Wii Sports Resort      Wii           2009.0        Sports   \n",
       "4           Pokemon Red/Pokemon Blue       GB           1996.0  Role-Playing   \n",
       "...                              ...      ...              ...           ...   \n",
       "16714  Samurai Warriors: Sanada Maru      PS3           2016.0        Action   \n",
       "16715               LMA Manager 2007     X360           2006.0        Sports   \n",
       "16716        Haitaka no Psychedelica      PSV           2016.0     Adventure   \n",
       "16717               Spirits & Spells      GBA           2003.0      Platform   \n",
       "16718            Winning Post 8 2016      PSV           2016.0    Simulation   \n",
       "\n",
       "          Publisher  NA_Sales  EU_Sales  JP_Sales  Other_Sales  Global_Sales  \\\n",
       "0          Nintendo     41.36     28.96      3.77         8.45         82.53   \n",
       "1          Nintendo     29.08      3.58      6.81         0.77         40.24   \n",
       "2          Nintendo     15.68     12.76      3.79         3.29         35.52   \n",
       "3          Nintendo     15.61     10.93      3.28         2.95         32.77   \n",
       "4          Nintendo     11.27      8.89     10.22         1.00         31.37   \n",
       "...             ...       ...       ...       ...          ...           ...   \n",
       "16714    Tecmo Koei      0.00      0.00      0.01         0.00          0.01   \n",
       "16715   Codemasters      0.00      0.01      0.00         0.00          0.01   \n",
       "16716  Idea Factory      0.00      0.00      0.01         0.00          0.01   \n",
       "16717       Wanadoo      0.01      0.00      0.00         0.00          0.01   \n",
       "16718    Tecmo Koei      0.00      0.00      0.01         0.00          0.01   \n",
       "\n",
       "       Critic_Score  Critic_Count User_Score  User_Count Developer Rating  \n",
       "0              76.0          51.0          8       322.0  Nintendo      E  \n",
       "1               NaN           NaN        NaN         NaN       NaN    NaN  \n",
       "2              82.0          73.0        8.3       709.0  Nintendo      E  \n",
       "3              80.0          73.0          8       192.0  Nintendo      E  \n",
       "4               NaN           NaN        NaN         NaN       NaN    NaN  \n",
       "...             ...           ...        ...         ...       ...    ...  \n",
       "16714           NaN           NaN        NaN         NaN       NaN    NaN  \n",
       "16715           NaN           NaN        NaN         NaN       NaN    NaN  \n",
       "16716           NaN           NaN        NaN         NaN       NaN    NaN  \n",
       "16717           NaN           NaN        NaN         NaN       NaN    NaN  \n",
       "16718           NaN           NaN        NaN         NaN       NaN    NaN  \n",
       "\n",
       "[16719 rows x 16 columns]"
      ]
     },
     "execution_count": 125,
     "metadata": {},
     "output_type": "execute_result"
    }
   ],
   "source": [
    "#Veiw the data\n",
    "game_sales_data"
   ]
  },
  {
   "cell_type": "code",
   "execution_count": 126,
   "id": "83807e67",
   "metadata": {
    "colab": {
     "base_uri": "https://localhost:8080/"
    },
    "id": "83807e67",
    "outputId": "12e99e6c-4155-48e2-b1d1-3055d53ed570"
   },
   "outputs": [
    {
     "name": "stdout",
     "output_type": "stream",
     "text": [
      "<class 'pandas.core.frame.DataFrame'>\n",
      "RangeIndex: 16719 entries, 0 to 16718\n",
      "Data columns (total 16 columns):\n",
      " #   Column           Non-Null Count  Dtype  \n",
      "---  ------           --------------  -----  \n",
      " 0   Name             16717 non-null  object \n",
      " 1   Platform         16719 non-null  object \n",
      " 2   Year_of_Release  16450 non-null  float64\n",
      " 3   Genre            16717 non-null  object \n",
      " 4   Publisher        16665 non-null  object \n",
      " 5   NA_Sales         16719 non-null  float64\n",
      " 6   EU_Sales         16719 non-null  float64\n",
      " 7   JP_Sales         16719 non-null  float64\n",
      " 8   Other_Sales      16719 non-null  float64\n",
      " 9   Global_Sales     16719 non-null  float64\n",
      " 10  Critic_Score     8137 non-null   float64\n",
      " 11  Critic_Count     8137 non-null   float64\n",
      " 12  User_Score       10015 non-null  object \n",
      " 13  User_Count       7590 non-null   float64\n",
      " 14  Developer        10096 non-null  object \n",
      " 15  Rating           9950 non-null   object \n",
      "dtypes: float64(9), object(7)\n",
      "memory usage: 2.0+ MB\n"
     ]
    }
   ],
   "source": [
    "#Get an overview of the dataset to see all possible faulty columns (e.g nans, wrong types and empty cells)\n",
    "game_sales_data.info()"
   ]
  },
  {
   "cell_type": "code",
   "execution_count": 127,
   "id": "b1f12deb",
   "metadata": {
    "colab": {
     "base_uri": "https://localhost:8080/"
    },
    "id": "b1f12deb",
    "outputId": "96b561d0-ca9d-4bdb-ff1c-2d22783f2b7e"
   },
   "outputs": [
    {
     "data": {
      "text/plain": [
       "Name                  2\n",
       "Platform              0\n",
       "Year_of_Release     269\n",
       "Genre                 2\n",
       "Publisher            54\n",
       "NA_Sales              0\n",
       "EU_Sales              0\n",
       "JP_Sales              0\n",
       "Other_Sales           0\n",
       "Global_Sales          0\n",
       "Critic_Score       8582\n",
       "Critic_Count       8582\n",
       "User_Score         6704\n",
       "User_Count         9129\n",
       "Developer          6623\n",
       "Rating             6769\n",
       "dtype: int64"
      ]
     },
     "execution_count": 127,
     "metadata": {},
     "output_type": "execute_result"
    }
   ],
   "source": [
    "#Check for null values\n",
    "game_sales_data.isnull().sum()"
   ]
  },
  {
   "cell_type": "code",
   "execution_count": 128,
   "id": "ed04fb78",
   "metadata": {
    "colab": {
     "base_uri": "https://localhost:8080/"
    },
    "id": "ed04fb78",
    "outputId": "89f258fb-2973-4db3-e1b4-6306f46d8e2c"
   },
   "outputs": [
    {
     "data": {
      "text/plain": [
       "0"
      ]
     },
     "execution_count": 128,
     "metadata": {},
     "output_type": "execute_result"
    }
   ],
   "source": [
    "#Check for duplicate entries\n",
    "game_sales_data.duplicated().sum()"
   ]
  },
  {
   "cell_type": "markdown",
   "id": "a994c867",
   "metadata": {
    "id": "a994c867"
   },
   "source": [
    "### Cleaning columns with null values"
   ]
  },
  {
   "cell_type": "markdown",
   "id": "54b9233b",
   "metadata": {
    "id": "54b9233b"
   },
   "source": [
    "#### NAME COLUMN"
   ]
  },
  {
   "cell_type": "code",
   "execution_count": 129,
   "id": "27d41fff",
   "metadata": {
    "id": "27d41fff"
   },
   "outputs": [],
   "source": [
    "#Replace the nan values along the name column with \"Unknown\"\n",
    "game_sales_data['Name'].replace(np.nan, 'GEN',inplace = True)"
   ]
  },
  {
   "cell_type": "code",
   "execution_count": 130,
   "id": "1fd4661b",
   "metadata": {},
   "outputs": [
    {
     "data": {
      "text/plain": [
       "array(['Wii Sports', 'Super Mario Bros.', 'Mario Kart Wii', ...,\n",
       "       'Woody Woodpecker in Crazy Castle 5', 'LMA Manager 2007',\n",
       "       'Haitaka no Psychedelica'], dtype=object)"
      ]
     },
     "execution_count": 130,
     "metadata": {},
     "output_type": "execute_result"
    }
   ],
   "source": [
    "game_sales_data['Name'].unique()"
   ]
  },
  {
   "cell_type": "markdown",
   "id": "j5XI7ahWEZAA",
   "metadata": {
    "id": "j5XI7ahWEZAA"
   },
   "source": [
    "#### CLEANING YEAR OF REALEASE COLUMN"
   ]
  },
  {
   "cell_type": "code",
   "execution_count": 131,
   "id": "34f9ba60",
   "metadata": {},
   "outputs": [
    {
     "data": {
      "text/plain": [
       "array([2006., 1985., 2008., 2009., 1996., 1989., 1984., 2005., 1999.,\n",
       "       2007., 2010., 2013., 2004., 1990., 1988., 2002., 2001., 2011.,\n",
       "       1998., 2015., 2012., 2014., 1992., 1997., 1993., 1994., 1982.,\n",
       "       2016., 2003., 1986., 2000.,   nan, 1995., 1991., 1981., 1987.,\n",
       "       1980., 1983., 2020., 2017.])"
      ]
     },
     "execution_count": 131,
     "metadata": {},
     "output_type": "execute_result"
    }
   ],
   "source": [
    "#Check for the unique values along the Year_of_Release column\n",
    "game_sales_data['Year_of_Release'].unique()"
   ]
  },
  {
   "cell_type": "code",
   "execution_count": 132,
   "id": "b26a85bf",
   "metadata": {
    "id": "b26a85bf"
   },
   "outputs": [],
   "source": [
    "#Change all instances of nans along the Year_of_Release column to 0 \n",
    "game_sales_data['Year_of_Release'].replace(np.nan,0, inplace= True)"
   ]
  },
  {
   "cell_type": "code",
   "execution_count": 133,
   "id": "8ab3d669",
   "metadata": {
    "id": "8ab3d669"
   },
   "outputs": [],
   "source": [
    "#Convert the Year_of_Release column to int\n",
    "game_sales_data['Year_of_Release'] =game_sales_data['Year_of_Release'].astype('int')"
   ]
  },
  {
   "cell_type": "code",
   "execution_count": 134,
   "id": "e03dcbb5",
   "metadata": {},
   "outputs": [
    {
     "data": {
      "text/plain": [
       "array([2006, 1985, 2008, 2009, 1996, 1989, 1984, 2005, 1999, 2007, 2010,\n",
       "       2013, 2004, 1990, 1988, 2002, 2001, 2011, 1998, 2015, 2012, 2014,\n",
       "       1992, 1997, 1993, 1994, 1982, 2016, 2003, 1986, 2000,    0, 1995,\n",
       "       1991, 1981, 1987, 1980, 1983, 2020, 2017])"
      ]
     },
     "execution_count": 134,
     "metadata": {},
     "output_type": "execute_result"
    }
   ],
   "source": [
    "game_sales_data['Year_of_Release'].unique()"
   ]
  },
  {
   "cell_type": "markdown",
   "id": "5GF-iIFlF-SK",
   "metadata": {
    "id": "5GF-iIFlF-SK"
   },
   "source": [
    "#### CLEANING THE GENRE COLUMN"
   ]
  },
  {
   "cell_type": "code",
   "execution_count": 135,
   "id": "56f37066",
   "metadata": {
    "colab": {
     "base_uri": "https://localhost:8080/"
    },
    "id": "56f37066",
    "outputId": "5ddaa067-6deb-4db6-b8eb-58f9d0d7c1e7"
   },
   "outputs": [
    {
     "data": {
      "text/plain": [
       "array(['Sports', 'Platform', 'Racing', 'Role-Playing', 'Puzzle', 'Misc',\n",
       "       'Shooter', 'Simulation', 'Action', 'Fighting', 'Adventure',\n",
       "       'Strategy', nan], dtype=object)"
      ]
     },
     "execution_count": 135,
     "metadata": {},
     "output_type": "execute_result"
    }
   ],
   "source": [
    "game_sales_data['Genre'].unique()"
   ]
  },
  {
   "cell_type": "code",
   "execution_count": 136,
   "id": "mzJ91vMKHXwR",
   "metadata": {
    "id": "mzJ91vMKHXwR"
   },
   "outputs": [],
   "source": [
    "#Change all instances of nans along the Genre column to Unknown\n",
    "game_sales_data['Genre'].replace(np.nan,\"Unknown\", inplace= True)"
   ]
  },
  {
   "cell_type": "markdown",
   "id": "AUcUdzCUGC3E",
   "metadata": {
    "id": "AUcUdzCUGC3E"
   },
   "source": [
    "#### CLEANING THE PUBLISHER"
   ]
  },
  {
   "cell_type": "code",
   "execution_count": 137,
   "id": "RuyaYJyEGFEJ",
   "metadata": {
    "id": "RuyaYJyEGFEJ"
   },
   "outputs": [],
   "source": [
    "game_sales_data['Publisher'].replace(np.nan,\"Unknown\", inplace= True)"
   ]
  },
  {
   "cell_type": "markdown",
   "id": "6BCZWWdJEdmA",
   "metadata": {
    "id": "6BCZWWdJEdmA"
   },
   "source": [
    "#### CLEANING THE CRITIC SCORE, CRITIC COUNTS, USER SCORE, USER COUNTS"
   ]
  },
  {
   "cell_type": "code",
   "execution_count": 138,
   "id": "824eae67",
   "metadata": {
    "scrolled": true
   },
   "outputs": [
    {
     "data": {
      "text/plain": [
       "array([ 51.,  nan,  73.,  65.,  41.,  80.,  64.,  63.,  45.,  33.,  50.,\n",
       "        58.,  62.,  37.,  54.,  81.,  89.,  21., 100.,  39.,  56.,  66.,\n",
       "        57.,  86.,  74.,  16.,  82.,  67.,  29.,  15.,  70.,  99.,  20.,\n",
       "        87.,  23.,  24.,  10.,  27.,  42.,  91.,  53.,  75.,  46.,  84.,\n",
       "        38.,  12.,  90.,  97.,  44., 105.,  77.,  68.,  28.,  94.,  96.,\n",
       "        61.,  22.,  88.,  47.,  98.,  85.,  13.,   8.,  95.,  17.,  35.,\n",
       "        19.,  48.,  14., 113.,  83.,  72.,  30.,  69.,  76.,  18.,  34.,\n",
       "        40., 101.,   9.,  32.,  78.,  36.,  25.,  59.,  31.,  79.,  26.,\n",
       "        49.,  60.,  11.,  43., 107.,   7.,  71.,  55.,  52.,  92.,   4.,\n",
       "        93.,   5.,   6., 103., 102., 106.,   3., 104.])"
      ]
     },
     "execution_count": 138,
     "metadata": {},
     "output_type": "execute_result"
    }
   ],
   "source": [
    "game_sales_data['Critic_Count'].unique()"
   ]
  },
  {
   "cell_type": "code",
   "execution_count": 139,
   "id": "dc99afad",
   "metadata": {
    "id": "dc99afad"
   },
   "outputs": [],
   "source": [
    "#Change all instances of nans along the Critic and user column to 0\n",
    "game_sales_data['Critic_Score'].replace(np.nan, 0,inplace = True)\n",
    "game_sales_data['Critic_Count'].replace(np.nan, 0,inplace = True)\n",
    "game_sales_data['User_Score'] = game_sales_data['User_Score'].replace('tbd', np.nan)\n",
    "game_sales_data['User_Score'].replace(np.nan,0, inplace= True)\n",
    "\n",
    "#Change all instances of nans along the User_Count column to the median of the column\n",
    "game_sales_data['User_Count'].replace(np.nan,game_data['User_Count'].median(), inplace= True)\n",
    "\n",
    "#Convert the User_Scores to float from string\n",
    "game_sales_data['User_Score'] =game_sales_data['User_Score'].astype(float)\n",
    "\n",
    "#Convert the Critic_Count to int\n",
    "game_sales_data['Critic_Count'] =game_sales_data['Critic_Count'].astype(int)"
   ]
  },
  {
   "cell_type": "markdown",
   "id": "ohv2Hr6KGu_l",
   "metadata": {
    "id": "ohv2Hr6KGu_l"
   },
   "source": [
    "#### CLEANING THE DEVELOPER COLUMN"
   ]
  },
  {
   "cell_type": "code",
   "execution_count": 140,
   "id": "a8a2a0e3",
   "metadata": {
    "id": "a8a2a0e3"
   },
   "outputs": [],
   "source": [
    "game_sales_data['Developer'].replace(np.nan,\"Unknown\", inplace= True)"
   ]
  },
  {
   "cell_type": "markdown",
   "id": "8vYb0POQHnjp",
   "metadata": {
    "id": "8vYb0POQHnjp"
   },
   "source": [
    "#### CLEANING THE RATING AND PLATFORM COLUMNS"
   ]
  },
  {
   "cell_type": "code",
   "execution_count": 141,
   "id": "d3ef32fb",
   "metadata": {
    "colab": {
     "base_uri": "https://localhost:8080/",
     "height": 644
    },
    "id": "d3ef32fb",
    "outputId": "7e1b34fd-747b-418f-f1e5-bbc12b159c99",
    "scrolled": true
   },
   "outputs": [
    {
     "data": {
      "text/html": [
       "<div>\n",
       "<style scoped>\n",
       "    .dataframe tbody tr th:only-of-type {\n",
       "        vertical-align: middle;\n",
       "    }\n",
       "\n",
       "    .dataframe tbody tr th {\n",
       "        vertical-align: top;\n",
       "    }\n",
       "\n",
       "    .dataframe thead th {\n",
       "        text-align: right;\n",
       "    }\n",
       "</style>\n",
       "<table border=\"1\" class=\"dataframe\">\n",
       "  <thead>\n",
       "    <tr style=\"text-align: right;\">\n",
       "      <th></th>\n",
       "      <th>Name</th>\n",
       "      <th>Platform</th>\n",
       "      <th>Year_of_Release</th>\n",
       "      <th>Genre</th>\n",
       "      <th>Publisher</th>\n",
       "      <th>NA_Sales</th>\n",
       "      <th>EU_Sales</th>\n",
       "      <th>JP_Sales</th>\n",
       "      <th>Other_Sales</th>\n",
       "      <th>Global_Sales</th>\n",
       "      <th>Critic_Score</th>\n",
       "      <th>Critic_Count</th>\n",
       "      <th>User_Score</th>\n",
       "      <th>User_Count</th>\n",
       "      <th>Developer</th>\n",
       "      <th>Rating</th>\n",
       "    </tr>\n",
       "  </thead>\n",
       "  <tbody>\n",
       "    <tr>\n",
       "      <th>1</th>\n",
       "      <td>Super Mario Bros.</td>\n",
       "      <td>NES</td>\n",
       "      <td>1985</td>\n",
       "      <td>Platform</td>\n",
       "      <td>Nintendo</td>\n",
       "      <td>29.08</td>\n",
       "      <td>3.58</td>\n",
       "      <td>6.81</td>\n",
       "      <td>0.77</td>\n",
       "      <td>40.24</td>\n",
       "      <td>0.0</td>\n",
       "      <td>0</td>\n",
       "      <td>0.0</td>\n",
       "      <td>24.0</td>\n",
       "      <td>Unknown</td>\n",
       "      <td>NaN</td>\n",
       "    </tr>\n",
       "    <tr>\n",
       "      <th>4</th>\n",
       "      <td>Pokemon Red/Pokemon Blue</td>\n",
       "      <td>GB</td>\n",
       "      <td>1996</td>\n",
       "      <td>Role-Playing</td>\n",
       "      <td>Nintendo</td>\n",
       "      <td>11.27</td>\n",
       "      <td>8.89</td>\n",
       "      <td>10.22</td>\n",
       "      <td>1.00</td>\n",
       "      <td>31.37</td>\n",
       "      <td>0.0</td>\n",
       "      <td>0</td>\n",
       "      <td>0.0</td>\n",
       "      <td>24.0</td>\n",
       "      <td>Unknown</td>\n",
       "      <td>NaN</td>\n",
       "    </tr>\n",
       "    <tr>\n",
       "      <th>5</th>\n",
       "      <td>Tetris</td>\n",
       "      <td>GB</td>\n",
       "      <td>1989</td>\n",
       "      <td>Puzzle</td>\n",
       "      <td>Nintendo</td>\n",
       "      <td>23.20</td>\n",
       "      <td>2.26</td>\n",
       "      <td>4.22</td>\n",
       "      <td>0.58</td>\n",
       "      <td>30.26</td>\n",
       "      <td>0.0</td>\n",
       "      <td>0</td>\n",
       "      <td>0.0</td>\n",
       "      <td>24.0</td>\n",
       "      <td>Unknown</td>\n",
       "      <td>NaN</td>\n",
       "    </tr>\n",
       "    <tr>\n",
       "      <th>9</th>\n",
       "      <td>Duck Hunt</td>\n",
       "      <td>NES</td>\n",
       "      <td>1984</td>\n",
       "      <td>Shooter</td>\n",
       "      <td>Nintendo</td>\n",
       "      <td>26.93</td>\n",
       "      <td>0.63</td>\n",
       "      <td>0.28</td>\n",
       "      <td>0.47</td>\n",
       "      <td>28.31</td>\n",
       "      <td>0.0</td>\n",
       "      <td>0</td>\n",
       "      <td>0.0</td>\n",
       "      <td>24.0</td>\n",
       "      <td>Unknown</td>\n",
       "      <td>NaN</td>\n",
       "    </tr>\n",
       "    <tr>\n",
       "      <th>10</th>\n",
       "      <td>Nintendogs</td>\n",
       "      <td>DS</td>\n",
       "      <td>2005</td>\n",
       "      <td>Simulation</td>\n",
       "      <td>Nintendo</td>\n",
       "      <td>9.05</td>\n",
       "      <td>10.95</td>\n",
       "      <td>1.93</td>\n",
       "      <td>2.74</td>\n",
       "      <td>24.67</td>\n",
       "      <td>0.0</td>\n",
       "      <td>0</td>\n",
       "      <td>0.0</td>\n",
       "      <td>24.0</td>\n",
       "      <td>Unknown</td>\n",
       "      <td>NaN</td>\n",
       "    </tr>\n",
       "    <tr>\n",
       "      <th>...</th>\n",
       "      <td>...</td>\n",
       "      <td>...</td>\n",
       "      <td>...</td>\n",
       "      <td>...</td>\n",
       "      <td>...</td>\n",
       "      <td>...</td>\n",
       "      <td>...</td>\n",
       "      <td>...</td>\n",
       "      <td>...</td>\n",
       "      <td>...</td>\n",
       "      <td>...</td>\n",
       "      <td>...</td>\n",
       "      <td>...</td>\n",
       "      <td>...</td>\n",
       "      <td>...</td>\n",
       "      <td>...</td>\n",
       "    </tr>\n",
       "    <tr>\n",
       "      <th>16714</th>\n",
       "      <td>Samurai Warriors: Sanada Maru</td>\n",
       "      <td>PS3</td>\n",
       "      <td>2016</td>\n",
       "      <td>Action</td>\n",
       "      <td>Tecmo Koei</td>\n",
       "      <td>0.00</td>\n",
       "      <td>0.00</td>\n",
       "      <td>0.01</td>\n",
       "      <td>0.00</td>\n",
       "      <td>0.01</td>\n",
       "      <td>0.0</td>\n",
       "      <td>0</td>\n",
       "      <td>0.0</td>\n",
       "      <td>24.0</td>\n",
       "      <td>Unknown</td>\n",
       "      <td>NaN</td>\n",
       "    </tr>\n",
       "    <tr>\n",
       "      <th>16715</th>\n",
       "      <td>LMA Manager 2007</td>\n",
       "      <td>X360</td>\n",
       "      <td>2006</td>\n",
       "      <td>Sports</td>\n",
       "      <td>Codemasters</td>\n",
       "      <td>0.00</td>\n",
       "      <td>0.01</td>\n",
       "      <td>0.00</td>\n",
       "      <td>0.00</td>\n",
       "      <td>0.01</td>\n",
       "      <td>0.0</td>\n",
       "      <td>0</td>\n",
       "      <td>0.0</td>\n",
       "      <td>24.0</td>\n",
       "      <td>Unknown</td>\n",
       "      <td>NaN</td>\n",
       "    </tr>\n",
       "    <tr>\n",
       "      <th>16716</th>\n",
       "      <td>Haitaka no Psychedelica</td>\n",
       "      <td>PSV</td>\n",
       "      <td>2016</td>\n",
       "      <td>Adventure</td>\n",
       "      <td>Idea Factory</td>\n",
       "      <td>0.00</td>\n",
       "      <td>0.00</td>\n",
       "      <td>0.01</td>\n",
       "      <td>0.00</td>\n",
       "      <td>0.01</td>\n",
       "      <td>0.0</td>\n",
       "      <td>0</td>\n",
       "      <td>0.0</td>\n",
       "      <td>24.0</td>\n",
       "      <td>Unknown</td>\n",
       "      <td>NaN</td>\n",
       "    </tr>\n",
       "    <tr>\n",
       "      <th>16717</th>\n",
       "      <td>Spirits &amp; Spells</td>\n",
       "      <td>GBA</td>\n",
       "      <td>2003</td>\n",
       "      <td>Platform</td>\n",
       "      <td>Wanadoo</td>\n",
       "      <td>0.01</td>\n",
       "      <td>0.00</td>\n",
       "      <td>0.00</td>\n",
       "      <td>0.00</td>\n",
       "      <td>0.01</td>\n",
       "      <td>0.0</td>\n",
       "      <td>0</td>\n",
       "      <td>0.0</td>\n",
       "      <td>24.0</td>\n",
       "      <td>Unknown</td>\n",
       "      <td>NaN</td>\n",
       "    </tr>\n",
       "    <tr>\n",
       "      <th>16718</th>\n",
       "      <td>Winning Post 8 2016</td>\n",
       "      <td>PSV</td>\n",
       "      <td>2016</td>\n",
       "      <td>Simulation</td>\n",
       "      <td>Tecmo Koei</td>\n",
       "      <td>0.00</td>\n",
       "      <td>0.00</td>\n",
       "      <td>0.01</td>\n",
       "      <td>0.00</td>\n",
       "      <td>0.01</td>\n",
       "      <td>0.0</td>\n",
       "      <td>0</td>\n",
       "      <td>0.0</td>\n",
       "      <td>24.0</td>\n",
       "      <td>Unknown</td>\n",
       "      <td>NaN</td>\n",
       "    </tr>\n",
       "  </tbody>\n",
       "</table>\n",
       "<p>6769 rows × 16 columns</p>\n",
       "</div>"
      ],
      "text/plain": [
       "                                Name Platform  Year_of_Release         Genre  \\\n",
       "1                  Super Mario Bros.      NES             1985      Platform   \n",
       "4           Pokemon Red/Pokemon Blue       GB             1996  Role-Playing   \n",
       "5                             Tetris       GB             1989        Puzzle   \n",
       "9                          Duck Hunt      NES             1984       Shooter   \n",
       "10                        Nintendogs       DS             2005    Simulation   \n",
       "...                              ...      ...              ...           ...   \n",
       "16714  Samurai Warriors: Sanada Maru      PS3             2016        Action   \n",
       "16715               LMA Manager 2007     X360             2006        Sports   \n",
       "16716        Haitaka no Psychedelica      PSV             2016     Adventure   \n",
       "16717               Spirits & Spells      GBA             2003      Platform   \n",
       "16718            Winning Post 8 2016      PSV             2016    Simulation   \n",
       "\n",
       "          Publisher  NA_Sales  EU_Sales  JP_Sales  Other_Sales  Global_Sales  \\\n",
       "1          Nintendo     29.08      3.58      6.81         0.77         40.24   \n",
       "4          Nintendo     11.27      8.89     10.22         1.00         31.37   \n",
       "5          Nintendo     23.20      2.26      4.22         0.58         30.26   \n",
       "9          Nintendo     26.93      0.63      0.28         0.47         28.31   \n",
       "10         Nintendo      9.05     10.95      1.93         2.74         24.67   \n",
       "...             ...       ...       ...       ...          ...           ...   \n",
       "16714    Tecmo Koei      0.00      0.00      0.01         0.00          0.01   \n",
       "16715   Codemasters      0.00      0.01      0.00         0.00          0.01   \n",
       "16716  Idea Factory      0.00      0.00      0.01         0.00          0.01   \n",
       "16717       Wanadoo      0.01      0.00      0.00         0.00          0.01   \n",
       "16718    Tecmo Koei      0.00      0.00      0.01         0.00          0.01   \n",
       "\n",
       "       Critic_Score  Critic_Count  User_Score  User_Count Developer Rating  \n",
       "1               0.0             0         0.0        24.0   Unknown    NaN  \n",
       "4               0.0             0         0.0        24.0   Unknown    NaN  \n",
       "5               0.0             0         0.0        24.0   Unknown    NaN  \n",
       "9               0.0             0         0.0        24.0   Unknown    NaN  \n",
       "10              0.0             0         0.0        24.0   Unknown    NaN  \n",
       "...             ...           ...         ...         ...       ...    ...  \n",
       "16714           0.0             0         0.0        24.0   Unknown    NaN  \n",
       "16715           0.0             0         0.0        24.0   Unknown    NaN  \n",
       "16716           0.0             0         0.0        24.0   Unknown    NaN  \n",
       "16717           0.0             0         0.0        24.0   Unknown    NaN  \n",
       "16718           0.0             0         0.0        24.0   Unknown    NaN  \n",
       "\n",
       "[6769 rows x 16 columns]"
      ]
     },
     "execution_count": 141,
     "metadata": {},
     "output_type": "execute_result"
    }
   ],
   "source": [
    "game_sales_data[game_sales_data['Rating'].isnull()]"
   ]
  },
  {
   "cell_type": "code",
   "execution_count": 142,
   "id": "5611afb0",
   "metadata": {
    "colab": {
     "base_uri": "https://localhost:8080/"
    },
    "id": "5611afb0",
    "outputId": "6a10a44a-2079-4f54-ea95-96aa2db3a550"
   },
   "outputs": [
    {
     "data": {
      "text/plain": [
       "array(['E', nan, 'M', 'T', 'E10+', 'K-A', 'AO', 'EC', 'RP'], dtype=object)"
      ]
     },
     "execution_count": 142,
     "metadata": {},
     "output_type": "execute_result"
    }
   ],
   "source": [
    "#Checking the unique values along the rating column\n",
    "game_sales_data['Rating'].unique()"
   ]
  },
  {
   "cell_type": "code",
   "execution_count": 143,
   "id": "174beacb",
   "metadata": {
    "id": "174beacb"
   },
   "outputs": [],
   "source": [
    "game_sales_data['Rating'].replace(np.nan,\"Unknown\", inplace= True)"
   ]
  },
  {
   "cell_type": "code",
   "execution_count": 144,
   "id": "0-ExfmpAzsMp",
   "metadata": {
    "colab": {
     "base_uri": "https://localhost:8080/"
    },
    "id": "0-ExfmpAzsMp",
    "outputId": "cd664e44-f275-424e-871b-435ed584ef9e"
   },
   "outputs": [
    {
     "data": {
      "text/plain": [
       "plats    3467\n",
       "PS2      2161\n",
       "DS       2152\n",
       "PS3      1331\n",
       "Wii      1320\n",
       "X360     1262\n",
       "PSP      1209\n",
       "PS       1197\n",
       "PC        974\n",
       "XB        824\n",
       "GBA       822\n",
       "Name: Platform, dtype: int64"
      ]
     },
     "execution_count": 144,
     "metadata": {},
     "output_type": "execute_result"
    }
   ],
   "source": [
    "#Get the first ten platforms in the dataset\n",
    "Firt_10_platforms = game_sales_data['Platform'].value_counts().head(10).index.tolist()\n",
    "game_sales_data.loc[~game_sales_data['Platform'].isin(Firt_10_platforms), 'Platform'] = 'plats'\n",
    "\n",
    "game_sales_data['Platform'].value_counts()"
   ]
  },
  {
   "cell_type": "code",
   "execution_count": 145,
   "id": "fc58ad17",
   "metadata": {
    "colab": {
     "base_uri": "https://localhost:8080/"
    },
    "id": "fc58ad17",
    "outputId": "94d93b04-affa-4a0e-9d5f-61efad98abda"
   },
   "outputs": [
    {
     "data": {
      "text/plain": [
       "Name               0\n",
       "Platform           0\n",
       "Year_of_Release    0\n",
       "Genre              0\n",
       "Publisher          0\n",
       "NA_Sales           0\n",
       "EU_Sales           0\n",
       "JP_Sales           0\n",
       "Other_Sales        0\n",
       "Global_Sales       0\n",
       "Critic_Score       0\n",
       "Critic_Count       0\n",
       "User_Score         0\n",
       "User_Count         0\n",
       "Developer          0\n",
       "Rating             0\n",
       "dtype: int64"
      ]
     },
     "execution_count": 145,
     "metadata": {},
     "output_type": "execute_result"
    }
   ],
   "source": [
    "game_sales_data.isnull().sum()"
   ]
  },
  {
   "cell_type": "markdown",
   "id": "46c19b4f",
   "metadata": {
    "id": "46c19b4f"
   },
   "source": [
    "#### Determining Which of the variables in the video game dataset or a combination of them best predicts “global sales” of video games "
   ]
  },
  {
   "cell_type": "code",
   "execution_count": 146,
   "id": "f5c3d3ba",
   "metadata": {
    "colab": {
     "base_uri": "https://localhost:8080/",
     "height": 363
    },
    "id": "f5c3d3ba",
    "outputId": "1cf928d3-650e-43ff-cfc2-3dea5cba0857"
   },
   "outputs": [
    {
     "data": {
      "text/html": [
       "<div>\n",
       "<style scoped>\n",
       "    .dataframe tbody tr th:only-of-type {\n",
       "        vertical-align: middle;\n",
       "    }\n",
       "\n",
       "    .dataframe tbody tr th {\n",
       "        vertical-align: top;\n",
       "    }\n",
       "\n",
       "    .dataframe thead th {\n",
       "        text-align: right;\n",
       "    }\n",
       "</style>\n",
       "<table border=\"1\" class=\"dataframe\">\n",
       "  <thead>\n",
       "    <tr style=\"text-align: right;\">\n",
       "      <th></th>\n",
       "      <th>count</th>\n",
       "      <th>mean</th>\n",
       "      <th>std</th>\n",
       "      <th>min</th>\n",
       "      <th>25%</th>\n",
       "      <th>50%</th>\n",
       "      <th>75%</th>\n",
       "      <th>max</th>\n",
       "    </tr>\n",
       "  </thead>\n",
       "  <tbody>\n",
       "    <tr>\n",
       "      <th>Year_of_Release</th>\n",
       "      <td>16719.0</td>\n",
       "      <td>1974.204019</td>\n",
       "      <td>252.530614</td>\n",
       "      <td>0.00</td>\n",
       "      <td>2003.00</td>\n",
       "      <td>2007.00</td>\n",
       "      <td>2010.00</td>\n",
       "      <td>2020.00</td>\n",
       "    </tr>\n",
       "    <tr>\n",
       "      <th>NA_Sales</th>\n",
       "      <td>16719.0</td>\n",
       "      <td>0.263330</td>\n",
       "      <td>0.813514</td>\n",
       "      <td>0.00</td>\n",
       "      <td>0.00</td>\n",
       "      <td>0.08</td>\n",
       "      <td>0.24</td>\n",
       "      <td>41.36</td>\n",
       "    </tr>\n",
       "    <tr>\n",
       "      <th>EU_Sales</th>\n",
       "      <td>16719.0</td>\n",
       "      <td>0.145025</td>\n",
       "      <td>0.503283</td>\n",
       "      <td>0.00</td>\n",
       "      <td>0.00</td>\n",
       "      <td>0.02</td>\n",
       "      <td>0.11</td>\n",
       "      <td>28.96</td>\n",
       "    </tr>\n",
       "    <tr>\n",
       "      <th>JP_Sales</th>\n",
       "      <td>16719.0</td>\n",
       "      <td>0.077602</td>\n",
       "      <td>0.308818</td>\n",
       "      <td>0.00</td>\n",
       "      <td>0.00</td>\n",
       "      <td>0.00</td>\n",
       "      <td>0.04</td>\n",
       "      <td>10.22</td>\n",
       "    </tr>\n",
       "    <tr>\n",
       "      <th>Other_Sales</th>\n",
       "      <td>16719.0</td>\n",
       "      <td>0.047332</td>\n",
       "      <td>0.186710</td>\n",
       "      <td>0.00</td>\n",
       "      <td>0.00</td>\n",
       "      <td>0.01</td>\n",
       "      <td>0.03</td>\n",
       "      <td>10.57</td>\n",
       "    </tr>\n",
       "    <tr>\n",
       "      <th>Global_Sales</th>\n",
       "      <td>16719.0</td>\n",
       "      <td>0.533543</td>\n",
       "      <td>1.547935</td>\n",
       "      <td>0.01</td>\n",
       "      <td>0.06</td>\n",
       "      <td>0.17</td>\n",
       "      <td>0.47</td>\n",
       "      <td>82.53</td>\n",
       "    </tr>\n",
       "    <tr>\n",
       "      <th>Critic_Score</th>\n",
       "      <td>16719.0</td>\n",
       "      <td>33.566003</td>\n",
       "      <td>35.817714</td>\n",
       "      <td>0.00</td>\n",
       "      <td>0.00</td>\n",
       "      <td>0.00</td>\n",
       "      <td>70.00</td>\n",
       "      <td>98.00</td>\n",
       "    </tr>\n",
       "    <tr>\n",
       "      <th>Critic_Count</th>\n",
       "      <td>16719.0</td>\n",
       "      <td>12.829595</td>\n",
       "      <td>18.679793</td>\n",
       "      <td>0.00</td>\n",
       "      <td>0.00</td>\n",
       "      <td>0.00</td>\n",
       "      <td>21.00</td>\n",
       "      <td>113.00</td>\n",
       "    </tr>\n",
       "    <tr>\n",
       "      <th>User_Score</th>\n",
       "      <td>16719.0</td>\n",
       "      <td>3.234589</td>\n",
       "      <td>3.688653</td>\n",
       "      <td>0.00</td>\n",
       "      <td>0.00</td>\n",
       "      <td>0.00</td>\n",
       "      <td>7.30</td>\n",
       "      <td>9.70</td>\n",
       "    </tr>\n",
       "    <tr>\n",
       "      <th>User_Count</th>\n",
       "      <td>16719.0</td>\n",
       "      <td>86.752856</td>\n",
       "      <td>384.376835</td>\n",
       "      <td>4.00</td>\n",
       "      <td>24.00</td>\n",
       "      <td>24.00</td>\n",
       "      <td>24.00</td>\n",
       "      <td>10665.00</td>\n",
       "    </tr>\n",
       "  </tbody>\n",
       "</table>\n",
       "</div>"
      ],
      "text/plain": [
       "                   count         mean         std   min      25%      50%  \\\n",
       "Year_of_Release  16719.0  1974.204019  252.530614  0.00  2003.00  2007.00   \n",
       "NA_Sales         16719.0     0.263330    0.813514  0.00     0.00     0.08   \n",
       "EU_Sales         16719.0     0.145025    0.503283  0.00     0.00     0.02   \n",
       "JP_Sales         16719.0     0.077602    0.308818  0.00     0.00     0.00   \n",
       "Other_Sales      16719.0     0.047332    0.186710  0.00     0.00     0.01   \n",
       "Global_Sales     16719.0     0.533543    1.547935  0.01     0.06     0.17   \n",
       "Critic_Score     16719.0    33.566003   35.817714  0.00     0.00     0.00   \n",
       "Critic_Count     16719.0    12.829595   18.679793  0.00     0.00     0.00   \n",
       "User_Score       16719.0     3.234589    3.688653  0.00     0.00     0.00   \n",
       "User_Count       16719.0    86.752856  384.376835  4.00    24.00    24.00   \n",
       "\n",
       "                     75%       max  \n",
       "Year_of_Release  2010.00   2020.00  \n",
       "NA_Sales            0.24     41.36  \n",
       "EU_Sales            0.11     28.96  \n",
       "JP_Sales            0.04     10.22  \n",
       "Other_Sales         0.03     10.57  \n",
       "Global_Sales        0.47     82.53  \n",
       "Critic_Score       70.00     98.00  \n",
       "Critic_Count       21.00    113.00  \n",
       "User_Score          7.30      9.70  \n",
       "User_Count         24.00  10665.00  "
      ]
     },
     "execution_count": 146,
     "metadata": {},
     "output_type": "execute_result"
    }
   ],
   "source": [
    "#Get a statistical overview of the dataset\n",
    "game_sales_data.describe().transpose()"
   ]
  },
  {
   "cell_type": "code",
   "execution_count": 147,
   "id": "a9158a41",
   "metadata": {
    "colab": {
     "base_uri": "https://localhost:8080/",
     "height": 969
    },
    "id": "a9158a41",
    "outputId": "a9313998-c4ab-4bec-ba0f-7f8537c49c0f"
   },
   "outputs": [
    {
     "data": {
      "text/plain": [
       "<Figure size 720x480 with 0 Axes>"
      ]
     },
     "metadata": {},
     "output_type": "display_data"
    },
    {
     "data": {
      "image/png": "[encoded data removed]",
      "text/plain": [
       "<Figure size 1440x1080 with 12 Axes>"
      ]
     },
     "metadata": {
      "needs_background": "light"
     },
     "output_type": "display_data"
    }
   ],
   "source": [
    " # These charts display all the numerical datatypes \n",
    "plt.figure(dpi = 120)\n",
    "game_sales_data.hist(figsize = (20, 15))\n",
    "plt.show()"
   ]
  },
  {
   "cell_type": "code",
   "execution_count": 148,
   "id": "7dfd48ca",
   "metadata": {
    "colab": {
     "base_uri": "https://localhost:8080/",
     "height": 796
    },
    "id": "7dfd48ca",
    "outputId": "b511be6a-ef4a-409a-e11a-84abd10e8b7c"
   },
   "outputs": [
    {
     "data": {
      "image/png": "[encoded data removed]",
      "text/plain": [
       "<Figure size 720x576 with 2 Axes>"
      ]
     },
     "metadata": {
      "needs_background": "light"
     },
     "output_type": "display_data"
    }
   ],
   "source": [
    "#Get the correlation between global sales and other variables in the dataset\n",
    "game_corelation = game_sales_data.corr()\n",
    "plt.figure(figsize= (10,8))\n",
    "sns.heatmap(game_sales_data.corr(), annot = True,vmin = -1,vmax= 1,cmap = 'Spectral')\n",
    "\n",
    "#Save the heatmap as png image file\n",
    "plt.savefig('heatmap.png')"
   ]
  },
  {
   "cell_type": "code",
   "execution_count": 149,
   "id": "36684c69",
   "metadata": {
    "colab": {
     "base_uri": "https://localhost:8080/",
     "height": 424
    },
    "id": "36684c69",
    "outputId": "9e72dfce-8a5d-43e8-e81d-52a0cec85046"
   },
   "outputs": [
    {
     "data": {
      "text/html": [
       "<div>\n",
       "<style scoped>\n",
       "    .dataframe tbody tr th:only-of-type {\n",
       "        vertical-align: middle;\n",
       "    }\n",
       "\n",
       "    .dataframe tbody tr th {\n",
       "        vertical-align: top;\n",
       "    }\n",
       "\n",
       "    .dataframe thead th {\n",
       "        text-align: right;\n",
       "    }\n",
       "</style>\n",
       "<table border=\"1\" class=\"dataframe\">\n",
       "  <thead>\n",
       "    <tr style=\"text-align: right;\">\n",
       "      <th></th>\n",
       "      <th>Year_of_Release</th>\n",
       "      <th>NA_Sales</th>\n",
       "      <th>EU_Sales</th>\n",
       "      <th>JP_Sales</th>\n",
       "      <th>Other_Sales</th>\n",
       "      <th>Global_Sales</th>\n",
       "      <th>Critic_Score</th>\n",
       "      <th>Critic_Count</th>\n",
       "      <th>User_Score</th>\n",
       "      <th>User_Count</th>\n",
       "    </tr>\n",
       "  </thead>\n",
       "  <tbody>\n",
       "    <tr>\n",
       "      <th>0</th>\n",
       "      <td>2006</td>\n",
       "      <td>41.36</td>\n",
       "      <td>28.96</td>\n",
       "      <td>3.77</td>\n",
       "      <td>8.45</td>\n",
       "      <td>82.53</td>\n",
       "      <td>76.0</td>\n",
       "      <td>51</td>\n",
       "      <td>8.0</td>\n",
       "      <td>322.0</td>\n",
       "    </tr>\n",
       "    <tr>\n",
       "      <th>1</th>\n",
       "      <td>1985</td>\n",
       "      <td>29.08</td>\n",
       "      <td>3.58</td>\n",
       "      <td>6.81</td>\n",
       "      <td>0.77</td>\n",
       "      <td>40.24</td>\n",
       "      <td>0.0</td>\n",
       "      <td>0</td>\n",
       "      <td>0.0</td>\n",
       "      <td>24.0</td>\n",
       "    </tr>\n",
       "    <tr>\n",
       "      <th>2</th>\n",
       "      <td>2008</td>\n",
       "      <td>15.68</td>\n",
       "      <td>12.76</td>\n",
       "      <td>3.79</td>\n",
       "      <td>3.29</td>\n",
       "      <td>35.52</td>\n",
       "      <td>82.0</td>\n",
       "      <td>73</td>\n",
       "      <td>8.3</td>\n",
       "      <td>709.0</td>\n",
       "    </tr>\n",
       "    <tr>\n",
       "      <th>3</th>\n",
       "      <td>2009</td>\n",
       "      <td>15.61</td>\n",
       "      <td>10.93</td>\n",
       "      <td>3.28</td>\n",
       "      <td>2.95</td>\n",
       "      <td>32.77</td>\n",
       "      <td>80.0</td>\n",
       "      <td>73</td>\n",
       "      <td>8.0</td>\n",
       "      <td>192.0</td>\n",
       "    </tr>\n",
       "    <tr>\n",
       "      <th>4</th>\n",
       "      <td>1996</td>\n",
       "      <td>11.27</td>\n",
       "      <td>8.89</td>\n",
       "      <td>10.22</td>\n",
       "      <td>1.00</td>\n",
       "      <td>31.37</td>\n",
       "      <td>0.0</td>\n",
       "      <td>0</td>\n",
       "      <td>0.0</td>\n",
       "      <td>24.0</td>\n",
       "    </tr>\n",
       "    <tr>\n",
       "      <th>...</th>\n",
       "      <td>...</td>\n",
       "      <td>...</td>\n",
       "      <td>...</td>\n",
       "      <td>...</td>\n",
       "      <td>...</td>\n",
       "      <td>...</td>\n",
       "      <td>...</td>\n",
       "      <td>...</td>\n",
       "      <td>...</td>\n",
       "      <td>...</td>\n",
       "    </tr>\n",
       "    <tr>\n",
       "      <th>16714</th>\n",
       "      <td>2016</td>\n",
       "      <td>0.00</td>\n",
       "      <td>0.00</td>\n",
       "      <td>0.01</td>\n",
       "      <td>0.00</td>\n",
       "      <td>0.01</td>\n",
       "      <td>0.0</td>\n",
       "      <td>0</td>\n",
       "      <td>0.0</td>\n",
       "      <td>24.0</td>\n",
       "    </tr>\n",
       "    <tr>\n",
       "      <th>16715</th>\n",
       "      <td>2006</td>\n",
       "      <td>0.00</td>\n",
       "      <td>0.01</td>\n",
       "      <td>0.00</td>\n",
       "      <td>0.00</td>\n",
       "      <td>0.01</td>\n",
       "      <td>0.0</td>\n",
       "      <td>0</td>\n",
       "      <td>0.0</td>\n",
       "      <td>24.0</td>\n",
       "    </tr>\n",
       "    <tr>\n",
       "      <th>16716</th>\n",
       "      <td>2016</td>\n",
       "      <td>0.00</td>\n",
       "      <td>0.00</td>\n",
       "      <td>0.01</td>\n",
       "      <td>0.00</td>\n",
       "      <td>0.01</td>\n",
       "      <td>0.0</td>\n",
       "      <td>0</td>\n",
       "      <td>0.0</td>\n",
       "      <td>24.0</td>\n",
       "    </tr>\n",
       "    <tr>\n",
       "      <th>16717</th>\n",
       "      <td>2003</td>\n",
       "      <td>0.01</td>\n",
       "      <td>0.00</td>\n",
       "      <td>0.00</td>\n",
       "      <td>0.00</td>\n",
       "      <td>0.01</td>\n",
       "      <td>0.0</td>\n",
       "      <td>0</td>\n",
       "      <td>0.0</td>\n",
       "      <td>24.0</td>\n",
       "    </tr>\n",
       "    <tr>\n",
       "      <th>16718</th>\n",
       "      <td>2016</td>\n",
       "      <td>0.00</td>\n",
       "      <td>0.00</td>\n",
       "      <td>0.01</td>\n",
       "      <td>0.00</td>\n",
       "      <td>0.01</td>\n",
       "      <td>0.0</td>\n",
       "      <td>0</td>\n",
       "      <td>0.0</td>\n",
       "      <td>24.0</td>\n",
       "    </tr>\n",
       "  </tbody>\n",
       "</table>\n",
       "<p>16719 rows × 10 columns</p>\n",
       "</div>"
      ],
      "text/plain": [
       "       Year_of_Release  NA_Sales  EU_Sales  JP_Sales  Other_Sales  \\\n",
       "0                 2006     41.36     28.96      3.77         8.45   \n",
       "1                 1985     29.08      3.58      6.81         0.77   \n",
       "2                 2008     15.68     12.76      3.79         3.29   \n",
       "3                 2009     15.61     10.93      3.28         2.95   \n",
       "4                 1996     11.27      8.89     10.22         1.00   \n",
       "...                ...       ...       ...       ...          ...   \n",
       "16714             2016      0.00      0.00      0.01         0.00   \n",
       "16715             2006      0.00      0.01      0.00         0.00   \n",
       "16716             2016      0.00      0.00      0.01         0.00   \n",
       "16717             2003      0.01      0.00      0.00         0.00   \n",
       "16718             2016      0.00      0.00      0.01         0.00   \n",
       "\n",
       "       Global_Sales  Critic_Score  Critic_Count  User_Score  User_Count  \n",
       "0             82.53          76.0            51         8.0       322.0  \n",
       "1             40.24           0.0             0         0.0        24.0  \n",
       "2             35.52          82.0            73         8.3       709.0  \n",
       "3             32.77          80.0            73         8.0       192.0  \n",
       "4             31.37           0.0             0         0.0        24.0  \n",
       "...             ...           ...           ...         ...         ...  \n",
       "16714          0.01           0.0             0         0.0        24.0  \n",
       "16715          0.01           0.0             0         0.0        24.0  \n",
       "16716          0.01           0.0             0         0.0        24.0  \n",
       "16717          0.01           0.0             0         0.0        24.0  \n",
       "16718          0.01           0.0             0         0.0        24.0  \n",
       "\n",
       "[16719 rows x 10 columns]"
      ]
     },
     "execution_count": 149,
     "metadata": {},
     "output_type": "execute_result"
    }
   ],
   "source": [
    "#Creating a dataframe containing only the numerical variables or data by removing the object data types\n",
    "numeric_game_data = game_sales_data.select_dtypes(exclude = \"object\")\n",
    "numeric_game_data"
   ]
  },
  {
   "cell_type": "code",
   "execution_count": 150,
   "id": "302c69a5",
   "metadata": {
    "id": "302c69a5"
   },
   "outputs": [],
   "source": [
    "# Assign input and output variables from the numeric dataset\n",
    "X = numeric_game_data.drop(['Global_Sales'], axis=1) \n",
    "y = numeric_game_data['Global_Sales']"
   ]
  },
  {
   "cell_type": "code",
   "execution_count": 151,
   "id": "deba2b2e",
   "metadata": {
    "id": "deba2b2e"
   },
   "outputs": [],
   "source": [
    "# Split the numeric data into training and testing sets\n",
    "X_train, X_test, y_train, y_test = train_test_split(X, y, test_size=0.2, random_state=42)"
   ]
  },
  {
   "cell_type": "code",
   "execution_count": 152,
   "id": "16b45be2",
   "metadata": {
    "id": "16b45be2"
   },
   "outputs": [],
   "source": [
    "# Applying StandardScaler() to the independent variables\n",
    "scaler = StandardScaler()\n",
    "scaler.fit(X_train) \n",
    "X_train_standard = scaler.transform(X_train)\n",
    "X_test_standard = scaler.transform(X_test)"
   ]
  },
  {
   "cell_type": "code",
   "execution_count": 153,
   "id": "09ca1a7d",
   "metadata": {
    "id": "09ca1a7d"
   },
   "outputs": [],
   "source": [
    "#converting to pandas dataframe\n",
    "X_train_standard = pd.DataFrame(X_train_standard, columns = X_train.columns)\n",
    "X_test_standard = pd.DataFrame(X_test_standard, columns = X_test.columns)"
   ]
  },
  {
   "cell_type": "markdown",
   "id": "c023a37d",
   "metadata": {
    "id": "c023a37d"
   },
   "source": [
    "#### Defining a function to run linear regression on all the variables"
   ]
  },
  {
   "cell_type": "code",
   "execution_count": 158,
   "id": "b41744fa",
   "metadata": {},
   "outputs": [],
   "source": [
    "def Linear_regres(column_name):\n",
    "    \n",
    "    \"\"\"\n",
    "    This function takes in a column name as an argument and then performs a LinearRegression on the particular column    \n",
    "        \n",
    "    \"\"\"\n",
    "     \n",
    "    X_train_standard[column_name].shape\n",
    "\n",
    "# Reshaping the attribute/variable\n",
    "    X_train_standard_Sales = X_train_standard[column_name].to_numpy().reshape(-1,1) \n",
    "    X_test_standard_Sales = X_test_standard[column_name].to_numpy().reshape(-1,1)\n",
    "\n",
    "    global_sales = LinearRegression() \n",
    "    global_sales.fit(X_train_standard_Sales,y_train)\n",
    "    \n",
    "    \n",
    "# # Print the scores and the mean score\n",
    "# print(\"Cross-validation scores:\", scores)\n",
    "# print(\"Mean cross-validation score:\", np.mean(scores))\n",
    "\n",
    "# Print coefficients\n",
    "    intercept = global_sales.intercept_\n",
    "    coefficient = global_sales.coef_\n",
    "    print('Intercept:', intercept)\n",
    "    print('Coefficients:', coefficient)\n",
    "\n",
    "    linear_model = 'Global sales = {:.2f} + {:.2f}*columns'.format(intercept, coefficient[0])\n",
    "    print('Linear Regression Model:', linear_model)\n",
    "    print('\\n')\n",
    "# Make predictions with the testing dataset \n",
    "    GSales_pred = global_sales.predict(X_test_standard_Sales)\n",
    "\n",
    "# The mean absolute error\n",
    "    mean_absolute = mean_absolute_error(y_test,GSales_pred)\n",
    "# The mean squared error\n",
    "    mean_squared = mean_squared_error(y_test,GSales_pred)\n",
    "    print(f\"Mean Absolute Error for {column_name} is: {mean_absolute:.2f}\")\n",
    "    print(f\"Mean Squared Error for {column_name} is : {mean_squared:.2f}\")\n",
    "    print(f\"Root Mean Squared Error for {column_name} is : {np.sqrt(mean_squared):.2f}\")\n",
    "    print(f\"Coefficient of Determination for {column_name} is: {r2_score(y_test,GSales_pred):.2f}\")\n"
   ]
  },
  {
   "cell_type": "markdown",
   "id": "06ec3503",
   "metadata": {
    "id": "06ec3503"
   },
   "source": [
    "#### Checking to see How The Various Region Sales Predict Global Sales"
   ]
  },
  {
   "cell_type": "markdown",
   "id": "e53439e5",
   "metadata": {},
   "source": [
    "##### NA_SALES"
   ]
  },
  {
   "cell_type": "code",
   "execution_count": 161,
   "id": "5cc45a77",
   "metadata": {
    "colab": {
     "base_uri": "https://localhost:8080/"
    },
    "id": "5cc45a77",
    "outputId": "aef052ec-acc5-4b0b-cdb1-15ee9711d936",
    "scrolled": true
   },
   "outputs": [
    {
     "name": "stdout",
     "output_type": "stream",
     "text": [
      "Intercept: 0.5255543925233646\n",
      "Coefficients: [1.29909089]\n",
      "Linear Regression Model: Global sales = 0.53 + 1.30*columns\n",
      "\n",
      "\n",
      "Mean Absolute Error for NA_Sales is: 0.20\n",
      "Mean Squared Error for NA_Sales is : 0.29\n",
      "Root Mean Squared Error for NA_Sales is : 0.54\n",
      "Coefficient of Determination for NA_Sales is: 0.93\n"
     ]
    }
   ],
   "source": [
    "Linear_regres(\"NA_Sales\")"
   ]
  },
  {
   "cell_type": "markdown",
   "id": "56ee1752",
   "metadata": {},
   "source": [
    "###### EU_SALES"
   ]
  },
  {
   "cell_type": "code",
   "execution_count": 35,
   "id": "4eb16a1a",
   "metadata": {},
   "outputs": [
    {
     "name": "stdout",
     "output_type": "stream",
     "text": [
      "Intercept: 0.5255543925233646\n",
      "Coefficients: [1.21447115]\n",
      "Linear Regression Model: Global sales = 0.53 + 1.21*columns\n",
      "\n",
      "\n",
      "Mean Absolute Error for EU_Sales is: 0.24\n",
      "Mean Squared Error for EU_Sales is : 0.30\n",
      "Root Mean Squared Error for EU_Sales is : 0.55\n",
      "Coefficient of Determination for EU_Sales is: 0.93\n"
     ]
    }
   ],
   "source": [
    "Linear_regres(\"EU_Sales\")"
   ]
  },
  {
   "cell_type": "markdown",
   "id": "7c20cfaf",
   "metadata": {},
   "source": [
    "##### JP_SALES"
   ]
  },
  {
   "cell_type": "code",
   "execution_count": 36,
   "id": "8951f211",
   "metadata": {
    "scrolled": true
   },
   "outputs": [
    {
     "name": "stdout",
     "output_type": "stream",
     "text": [
      "Intercept: 0.5255543925233646\n",
      "Coefficients: [0.89000933]\n",
      "Linear Regression Model: Global sales = 0.53 + 0.89*columns\n",
      "\n",
      "\n",
      "Mean Absolute Error for JP_Sales is: 0.52\n",
      "Mean Squared Error for JP_Sales is : 2.82\n",
      "Root Mean Squared Error for JP_Sales is : 1.68\n",
      "Coefficient of Determination for JP_Sales is: 0.32\n"
     ]
    }
   ],
   "source": [
    "Linear_regres(\"JP_Sales\")"
   ]
  },
  {
   "cell_type": "markdown",
   "id": "4036a716",
   "metadata": {},
   "source": [
    "##### Other_Sales"
   ]
  },
  {
   "cell_type": "code",
   "execution_count": 37,
   "id": "55db6a88",
   "metadata": {},
   "outputs": [
    {
     "name": "stdout",
     "output_type": "stream",
     "text": [
      "Intercept: 0.5255543925233646\n",
      "Coefficients: [0.94908078]\n",
      "Linear Regression Model: Global sales = 0.53 + 0.95*columns\n",
      "\n",
      "\n",
      "Mean Absolute Error for Other_Sales is: 0.35\n",
      "Mean Squared Error for Other_Sales is : 1.17\n",
      "Root Mean Squared Error for Other_Sales is : 1.08\n",
      "Coefficient of Determination for Other_Sales is: 0.72\n"
     ]
    }
   ],
   "source": [
    "Linear_regres(\"Other_Sales\")"
   ]
  },
  {
   "cell_type": "markdown",
   "id": "334d3fba",
   "metadata": {
    "id": "334d3fba"
   },
   "source": [
    "#### Checking to see How The Various Region Sales Predict Global Sales Using Multiple linear regression"
   ]
  },
  {
   "cell_type": "code",
   "execution_count": 38,
   "id": "6d4d4107",
   "metadata": {
    "colab": {
     "base_uri": "https://localhost:8080/"
    },
    "id": "6d4d4107",
    "outputId": "de9f4649-bc37-4b3a-d52d-d9ba3207e372"
   },
   "outputs": [
    {
     "name": "stdout",
     "output_type": "stream",
     "text": [
      "Intercept: 0.5255543925233646\n",
      "Coefficients: [ 4.05305007e-06  7.54512624e-01  4.41858390e-01  3.08071436e-01\n",
      "  1.80868353e-01  2.75569701e-04 -1.35771489e-04 -1.91511865e-04\n",
      " -1.08959330e-04]\n",
      "\n",
      "\n",
      "Multiple Linear Regression Model: Global_Sales = 0.53 + 0.00*Year_of_Release + 0.75*NA_Sales + 0.44*EU_Sales + 0.31*JP_Sales + 0.18*Other_Sales + 0.00*Critic_Score + -0.00*Critic_Count + -0.00*User_Score + -0.00*User_Count\n",
      "\n",
      "\n",
      "coefficient of determination (R-squared) is: 0.9999932660626304\n",
      "Mean Squared Error is: 2.7797390970018772e-05\n",
      "Root Mean Squared Error is: 0.005272323109410004\n",
      "Mean Absolute Error is: 0.0029889605055546816\n"
     ]
    }
   ],
   "source": [
    "#Train the model using the training sets\n",
    "reg = LinearRegression().fit(X_train_standard, y_train)\n",
    "reg\n",
    "\n",
    "# Print coefficients\n",
    "print('Intercept:', reg.intercept_)\n",
    "print('Coefficients:', reg.coef_)\n",
    "\n",
    "y_pred = reg.predict(X_test_standard)\n",
    "\n",
    "\n",
    " #Print linear model\n",
    "coefficients = reg.coef_\n",
    "intercept = reg.intercept_\n",
    "linear_model = 'Global_Sales = {:.2f} + {:.2f}*Year_of_Release + {:.2f}*NA_Sales + {:.2f}*EU_Sales + {:.2f}*JP_Sales + {:.2f}*Other_Sales + {:.2f}*Critic_Score + {:.2f}*Critic_Count + {:.2f}*User_Score + {:.2f}*User_Count'.format(intercept,coefficients[0],coefficients[1],coefficients[2],coefficients[3],coefficients[4],coefficients[5],coefficients[6],coefficients[7],coefficients[8])\n",
    "print('\\n')\n",
    "print('Multiple Linear Regression Model:', linear_model)\n",
    "\n",
    "\n",
    "\n",
    "# Calculate evaluation metrics for multiple linear regression\n",
    "# The coefficient of determination: 1 is perfect prediction\n",
    "r2 = r2_score(y_test, y_pred)\n",
    "# The mean squared error\n",
    "mse = mean_squared_error(y_test, y_pred)\n",
    "# The root mean squared error\n",
    "rmse = np.sqrt(mse)\n",
    "#rmse2 = mean_squared_error(y_test, y_pred, squared=False)\n",
    "# The mean absolute error\n",
    "mae = mean_absolute_error(y_test, y_pred)\n",
    "\n",
    "\n",
    "# Print evaluation metrics for multiple linear regression\n",
    "print('\\n')\n",
    "print('coefficient of determination (R-squared) is:', r2)\n",
    "print('Mean Squared Error is:', mse)\n",
    "print('Root Mean Squared Error is:', rmse)\n",
    "#print('Root Mean Squared Error 2:', rmse)\n",
    "print('Mean Absolute Error is:', mae)\n"
   ]
  },
  {
   "cell_type": "markdown",
   "id": "72f18882",
   "metadata": {
    "id": "72f18882"
   },
   "source": [
    "#### Checking Different Regressors"
   ]
  },
  {
   "cell_type": "code",
   "execution_count": 39,
   "id": "143b4265",
   "metadata": {
    "colab": {
     "base_uri": "https://localhost:8080/"
    },
    "id": "143b4265",
    "outputId": "a1fd796a-c755-4869-b936-cd04cecb6812"
   },
   "outputs": [
    {
     "name": "stdout",
     "output_type": "stream",
     "text": [
      "Random Forest Regression coef of det R2: 0.8189129888253113\n",
      "Random Forest Regression MSE: 0.7475190476104231\n",
      "Random Forest Regression RMSE: 0.8645918387368823\n",
      "Random Forest Regression MAE: 0.042935194530395376\n"
     ]
    }
   ],
   "source": [
    "# Random Forest Regression\n",
    "rf = RandomForestRegressor(n_estimators=100, random_state=42)\n",
    "rf.fit(X_train_standard, y_train)\n",
    "y_pred_rf = rf.predict(X_test_standard)\n",
    "\n",
    "print(\"Random Forest Regression coef of det R2:\", r2_score(y_test, y_pred_rf))\n",
    "print(\"Random Forest Regression MSE:\", mean_squared_error(y_test, y_pred_rf))\n",
    "print(\"Random Forest Regression RMSE:\", mean_squared_error(y_test, y_pred_rf, squared=False))\n",
    "print(\"Random Forest Regression MAE:\", mean_absolute_error(y_test, y_pred_rf))"
   ]
  },
  {
   "cell_type": "code",
   "execution_count": 40,
   "id": "ac44d03e",
   "metadata": {
    "colab": {
     "base_uri": "https://localhost:8080/"
    },
    "id": "ac44d03e",
    "outputId": "809fd6af-60e8-4b7f-bd75-6300c273f64e"
   },
   "outputs": [
    {
     "name": "stdout",
     "output_type": "stream",
     "text": [
      "Gradient Boosting Regression coef of det R2: 0.8519979303086304\n",
      "Gradient Boosting Regression MSE: 0.6109458953593238\n",
      "Gradient Boosting Regression MAE: 0.04562228152569117\n",
      "Gradient Boosting Regression RMSE: 0.7816302804774926\n"
     ]
    }
   ],
   "source": [
    "# Gradient Boosting Regression\n",
    "gb = GradientBoostingRegressor(n_estimators=100, random_state=42)\n",
    "gb.fit(X_train_standard, y_train)\n",
    "y_pred_gb = gb.predict(X_test_standard)\n",
    "\n",
    "print(\"Gradient Boosting Regression coef of det R2:\", r2_score(y_test, y_pred_gb))\n",
    "print(\"Gradient Boosting Regression MSE:\", mean_squared_error(y_test, y_pred_gb))\n",
    "print(\"Gradient Boosting Regression MAE:\", mean_absolute_error(y_test, y_pred_gb))\n",
    "print(\"Gradient Boosting Regression RMSE:\", mean_squared_error(y_test, y_pred_gb, squared=False))"
   ]
  },
  {
   "cell_type": "code",
   "execution_count": 41,
   "id": "e2d4285c",
   "metadata": {
    "colab": {
     "base_uri": "https://localhost:8080/"
    },
    "id": "e2d4285c",
    "outputId": "fdf5d8a7-69f3-478b-f61c-7541bc380acd"
   },
   "outputs": [
    {
     "name": "stdout",
     "output_type": "stream",
     "text": [
      "Lasso Regression coef of det R2: 0.9933628200511764\n",
      "Lasso Regression MSE: 0.027397980683316225\n",
      "Lasso Regression RMSE: 0.1655233538909728\n",
      "Lasso Regression MAE: 0.0541855443542004\n"
     ]
    }
   ],
   "source": [
    "# Lasso Regression\n",
    "lasso = Lasso(alpha=0.1)\n",
    "lasso.fit(X_train_standard, y_train)\n",
    "y_pred_lasso = lasso.predict(X_test_standard)\n",
    "\n",
    "\n",
    "print(\"Lasso Regression coef of det R2:\", r2_score(y_test, y_pred_lasso))\n",
    "print(\"Lasso Regression MSE:\", mean_squared_error(y_test, y_pred_lasso))\n",
    "print(\"Lasso Regression RMSE:\", mean_squared_error(y_test, y_pred_lasso, squared=False))\n",
    "print(\"Lasso Regression MAE:\", mean_absolute_error(y_test, y_pred_lasso))"
   ]
  },
  {
   "cell_type": "code",
   "execution_count": 42,
   "id": "da947538",
   "metadata": {
    "colab": {
     "base_uri": "https://localhost:8080/"
    },
    "id": "da947538",
    "outputId": "88368a46-ac24-4f02-c47a-2d5ed21296a9"
   },
   "outputs": [
    {
     "name": "stdout",
     "output_type": "stream",
     "text": [
      "Support Vector Regression coef of det R2: 0.9983559899106306\n",
      "Support Vector Regression MSE: 0.006786399799165278\n",
      "Support Vector Regression RMSE: 0.08237960790854298\n",
      "Support Vector Regression MAE: 0.08174203756639316\n"
     ]
    }
   ],
   "source": [
    "# Support Vector Regression\n",
    "svr = SVR(kernel='linear')\n",
    "svr.fit(X_train_standard, y_train)\n",
    "y_pred_svr = svr.predict(X_test_standard)\n",
    "\n",
    "\n",
    "print(\"Support Vector Regression coef of det R2:\", r2_score(y_test, y_pred_svr))\n",
    "print(\"Support Vector Regression MSE:\", mean_squared_error(y_test, y_pred_svr))\n",
    "print(\"Support Vector Regression RMSE:\", mean_squared_error(y_test, y_pred_svr, squared=False))\n",
    "print(\"Support Vector Regression MAE:\", mean_absolute_error(y_test, y_pred_svr))"
   ]
  },
  {
   "cell_type": "code",
   "execution_count": 43,
   "id": "0299a1d3",
   "metadata": {
    "colab": {
     "base_uri": "https://localhost:8080/"
    },
    "id": "0299a1d3",
    "outputId": "f483028b-4934-49cc-dafc-70ef17c5ba5e"
   },
   "outputs": [
    {
     "name": "stdout",
     "output_type": "stream",
     "text": [
      "K Neighbors Regression coef of det R2: 0.7761093053313088\n",
      "K Neighbors Regression MSE: 0.9242107303108935\n",
      "K Neighbors Regression RMSE: 0.9613587937450271\n",
      "K Neighbors Regression MAE: 0.0697432230417207\n"
     ]
    }
   ],
   "source": [
    "# K Neighbors Regression\n",
    "kn = KNeighborsRegressor(n_neighbors=5, weights='distance')\n",
    "kn.fit(X_train_standard, y_train)\n",
    "y_pred_kn = kn.predict(X_test_standard)\n",
    "\n",
    "\n",
    "print(\"K Neighbors Regression coef of det R2:\", r2_score(y_test, y_pred_kn))\n",
    "print(\"K Neighbors Regression MSE:\", mean_squared_error(y_test, y_pred_kn))\n",
    "print(\"K Neighbors Regression RMSE:\", mean_squared_error(y_test, y_pred_kn, squared=False))\n",
    "print(\"K Neighbors Regression MAE:\", mean_absolute_error(y_test, y_pred_kn))"
   ]
  },
  {
   "cell_type": "markdown",
   "id": "88750d2b",
   "metadata": {
    "id": "88750d2b"
   },
   "source": [
    "### Checking User and Critic on EU, NA and Japan"
   ]
  },
  {
   "cell_type": "code",
   "execution_count": 44,
   "id": "e5278b24",
   "metadata": {
    "colab": {
     "base_uri": "https://localhost:8080/",
     "height": 424
    },
    "id": "e5278b24",
    "outputId": "aae0f7e5-cec0-4c1e-b1ed-29e13d3c5adc"
   },
   "outputs": [
    {
     "data": {
      "text/html": [
       "<div>\n",
       "<style scoped>\n",
       "    .dataframe tbody tr th:only-of-type {\n",
       "        vertical-align: middle;\n",
       "    }\n",
       "\n",
       "    .dataframe tbody tr th {\n",
       "        vertical-align: top;\n",
       "    }\n",
       "\n",
       "    .dataframe thead th {\n",
       "        text-align: right;\n",
       "    }\n",
       "</style>\n",
       "<table border=\"1\" class=\"dataframe\">\n",
       "  <thead>\n",
       "    <tr style=\"text-align: right;\">\n",
       "      <th></th>\n",
       "      <th>Year_of_Release</th>\n",
       "      <th>NA_Sales</th>\n",
       "      <th>EU_Sales</th>\n",
       "      <th>JP_Sales</th>\n",
       "      <th>Other_Sales</th>\n",
       "      <th>Critic_Score</th>\n",
       "      <th>Critic_Count</th>\n",
       "      <th>User_Score</th>\n",
       "      <th>User_Count</th>\n",
       "    </tr>\n",
       "  </thead>\n",
       "  <tbody>\n",
       "    <tr>\n",
       "      <th>9162</th>\n",
       "      <td>2008</td>\n",
       "      <td>0.13</td>\n",
       "      <td>0.00</td>\n",
       "      <td>0.00</td>\n",
       "      <td>0.01</td>\n",
       "      <td>0.0</td>\n",
       "      <td>0</td>\n",
       "      <td>0.0</td>\n",
       "      <td>24.0</td>\n",
       "    </tr>\n",
       "    <tr>\n",
       "      <th>8300</th>\n",
       "      <td>2013</td>\n",
       "      <td>0.00</td>\n",
       "      <td>0.08</td>\n",
       "      <td>0.08</td>\n",
       "      <td>0.01</td>\n",
       "      <td>0.0</td>\n",
       "      <td>0</td>\n",
       "      <td>0.0</td>\n",
       "      <td>24.0</td>\n",
       "    </tr>\n",
       "    <tr>\n",
       "      <th>6518</th>\n",
       "      <td>2007</td>\n",
       "      <td>0.00</td>\n",
       "      <td>0.00</td>\n",
       "      <td>0.26</td>\n",
       "      <td>0.00</td>\n",
       "      <td>0.0</td>\n",
       "      <td>0</td>\n",
       "      <td>0.0</td>\n",
       "      <td>24.0</td>\n",
       "    </tr>\n",
       "    <tr>\n",
       "      <th>3307</th>\n",
       "      <td>2011</td>\n",
       "      <td>0.27</td>\n",
       "      <td>0.18</td>\n",
       "      <td>0.09</td>\n",
       "      <td>0.07</td>\n",
       "      <td>58.0</td>\n",
       "      <td>26</td>\n",
       "      <td>5.4</td>\n",
       "      <td>77.0</td>\n",
       "    </tr>\n",
       "    <tr>\n",
       "      <th>12933</th>\n",
       "      <td>2015</td>\n",
       "      <td>0.05</td>\n",
       "      <td>0.00</td>\n",
       "      <td>0.00</td>\n",
       "      <td>0.01</td>\n",
       "      <td>0.0</td>\n",
       "      <td>0</td>\n",
       "      <td>0.0</td>\n",
       "      <td>24.0</td>\n",
       "    </tr>\n",
       "    <tr>\n",
       "      <th>...</th>\n",
       "      <td>...</td>\n",
       "      <td>...</td>\n",
       "      <td>...</td>\n",
       "      <td>...</td>\n",
       "      <td>...</td>\n",
       "      <td>...</td>\n",
       "      <td>...</td>\n",
       "      <td>...</td>\n",
       "      <td>...</td>\n",
       "    </tr>\n",
       "    <tr>\n",
       "      <th>11284</th>\n",
       "      <td>2009</td>\n",
       "      <td>0.08</td>\n",
       "      <td>0.00</td>\n",
       "      <td>0.00</td>\n",
       "      <td>0.01</td>\n",
       "      <td>0.0</td>\n",
       "      <td>0</td>\n",
       "      <td>0.0</td>\n",
       "      <td>24.0</td>\n",
       "    </tr>\n",
       "    <tr>\n",
       "      <th>11964</th>\n",
       "      <td>2015</td>\n",
       "      <td>0.03</td>\n",
       "      <td>0.00</td>\n",
       "      <td>0.03</td>\n",
       "      <td>0.01</td>\n",
       "      <td>78.0</td>\n",
       "      <td>33</td>\n",
       "      <td>8.1</td>\n",
       "      <td>63.0</td>\n",
       "    </tr>\n",
       "    <tr>\n",
       "      <th>5390</th>\n",
       "      <td>2008</td>\n",
       "      <td>0.25</td>\n",
       "      <td>0.05</td>\n",
       "      <td>0.00</td>\n",
       "      <td>0.04</td>\n",
       "      <td>54.0</td>\n",
       "      <td>4</td>\n",
       "      <td>6.7</td>\n",
       "      <td>13.0</td>\n",
       "    </tr>\n",
       "    <tr>\n",
       "      <th>860</th>\n",
       "      <td>2010</td>\n",
       "      <td>0.79</td>\n",
       "      <td>0.88</td>\n",
       "      <td>0.00</td>\n",
       "      <td>0.32</td>\n",
       "      <td>80.0</td>\n",
       "      <td>46</td>\n",
       "      <td>7.6</td>\n",
       "      <td>82.0</td>\n",
       "    </tr>\n",
       "    <tr>\n",
       "      <th>15795</th>\n",
       "      <td>2011</td>\n",
       "      <td>0.00</td>\n",
       "      <td>0.00</td>\n",
       "      <td>0.02</td>\n",
       "      <td>0.00</td>\n",
       "      <td>0.0</td>\n",
       "      <td>0</td>\n",
       "      <td>0.0</td>\n",
       "      <td>24.0</td>\n",
       "    </tr>\n",
       "  </tbody>\n",
       "</table>\n",
       "<p>13375 rows × 9 columns</p>\n",
       "</div>"
      ],
      "text/plain": [
       "       Year_of_Release  NA_Sales  EU_Sales  JP_Sales  Other_Sales  \\\n",
       "9162              2008      0.13      0.00      0.00         0.01   \n",
       "8300              2013      0.00      0.08      0.08         0.01   \n",
       "6518              2007      0.00      0.00      0.26         0.00   \n",
       "3307              2011      0.27      0.18      0.09         0.07   \n",
       "12933             2015      0.05      0.00      0.00         0.01   \n",
       "...                ...       ...       ...       ...          ...   \n",
       "11284             2009      0.08      0.00      0.00         0.01   \n",
       "11964             2015      0.03      0.00      0.03         0.01   \n",
       "5390              2008      0.25      0.05      0.00         0.04   \n",
       "860               2010      0.79      0.88      0.00         0.32   \n",
       "15795             2011      0.00      0.00      0.02         0.00   \n",
       "\n",
       "       Critic_Score  Critic_Count  User_Score  User_Count  \n",
       "9162            0.0             0         0.0        24.0  \n",
       "8300            0.0             0         0.0        24.0  \n",
       "6518            0.0             0         0.0        24.0  \n",
       "3307           58.0            26         5.4        77.0  \n",
       "12933           0.0             0         0.0        24.0  \n",
       "...             ...           ...         ...         ...  \n",
       "11284           0.0             0         0.0        24.0  \n",
       "11964          78.0            33         8.1        63.0  \n",
       "5390           54.0             4         6.7        13.0  \n",
       "860            80.0            46         7.6        82.0  \n",
       "15795           0.0             0         0.0        24.0  \n",
       "\n",
       "[13375 rows x 9 columns]"
      ]
     },
     "execution_count": 44,
     "metadata": {},
     "output_type": "execute_result"
    }
   ],
   "source": [
    "X_train"
   ]
  },
  {
   "cell_type": "code",
   "execution_count": 45,
   "id": "3b0364b9",
   "metadata": {
    "id": "3b0364b9"
   },
   "outputs": [],
   "source": [
    "#Drop'Global_Sales','Year_of_Release','Other_Sales' columns\n",
    "heat= numeric_game_data.drop(['Global_Sales','Year_of_Release','Other_Sales'], axis=1) "
   ]
  },
  {
   "cell_type": "code",
   "execution_count": 46,
   "id": "c626182a",
   "metadata": {
    "colab": {
     "base_uri": "https://localhost:8080/",
     "height": 699
    },
    "id": "c626182a",
    "outputId": "8b03c421-5c36-4e6f-9221-7167536d8fb2"
   },
   "outputs": [
    {
     "data": {
      "image/png": "[encoded data removed]",
      "text/plain": [
       "<Figure size 720x576 with 2 Axes>"
      ]
     },
     "metadata": {
      "needs_background": "light"
     },
     "output_type": "display_data"
    }
   ],
   "source": [
    "critic_cor = heat.corr()\n",
    "plt.figure(figsize= (10,8))\n",
    "sns.heatmap(heat.corr(), annot = True,vmin = -1,vmax= 1,cmap = 'Spectral')\n",
    "\n",
    "\n",
    "#Save the heatmap as png image file\n",
    "plt.savefig('Critic_user_heatmap.png')"
   ]
  },
  {
   "cell_type": "markdown",
   "id": "5de2733e",
   "metadata": {
    "id": "5de2733e"
   },
   "source": [
    "#### Using multiple linear regressor for checking User and Critic on EU, NA and Japan"
   ]
  },
  {
   "cell_type": "code",
   "execution_count": 162,
   "id": "4533a659",
   "metadata": {
    "colab": {
     "base_uri": "https://localhost:8080/"
    },
    "id": "4533a659",
    "outputId": "8c45b057-624a-4ed8-e08a-b8020a8a0fae"
   },
   "outputs": [
    {
     "name": "stdout",
     "output_type": "stream",
     "text": [
      "NA_Sales:('Intercept:', 0.26022803738317757)\n",
      "('Coefficients:', array([-0.03007865,  0.15840579, -0.00069573,  0.12326448]))\n",
      "Multiple Linear Regression Model for NA_Sales is: target = 0.26 + -0.03*Critic_Score + 0.16*Critic_Count + -0.00*User_Score + 0.12*User_Count\n",
      "\n",
      "\n",
      "coefficient of determination (R-squared) is: 0.05110613712381007\n",
      "Mean Squared Error is: 0.978619545254719\n",
      "Root Mean Squared Error is: 0.9892520130152472\n",
      "Mean Absolute Error is: 0.2917038331972273\n",
      "\n",
      "\n",
      "EU_Sales:('Intercept:', 0.1421128971962617)\n",
      "('Coefficients:', array([-0.01022944,  0.08968177, -0.00118698,  0.11036703]))\n",
      "Multiple Linear Regression Model for EU_Sales is: target = 0.14 + -0.01*Critic_Score + 0.09*Critic_Count + -0.00*User_Score + 0.11*User_Count\n",
      "\n",
      "\n",
      "coefficient of determination (R-squared) is: 0.053350717954970595\n",
      "Mean Squared Error is: 0.45938405707466673\n",
      "Root Mean Squared Error is: 0.677778767058003\n",
      "Mean Absolute Error is: 0.17496030569357898\n",
      "\n",
      "\n",
      "JP_Sales:('Intercept:', 0.07617644859813083)\n",
      "('Coefficients:', array([-0.04135066,  0.03853115, -0.00404756,  0.00689019]))\n",
      "Multiple Linear Regression Model for JP_Sales is: target = 0.08 + -0.04*Critic_Score + 0.04*Critic_Count + -0.00*User_Score + 0.01*User_Count\n",
      "\n",
      "\n",
      "coefficient of determination (R-squared) is: 0.012713076623125596\n",
      "Mean Squared Error is: 0.0957465739085663\n",
      "Root Mean Squared Error is: 0.30942943284142554\n",
      "Mean Absolute Error is: 0.1159805251064632\n",
      "\n",
      "\n"
     ]
    }
   ],
   "source": [
    "X_NA = numeric_game_data.drop(['Global_Sales','Year_of_Release','NA_Sales','EU_Sales','JP_Sales','Other_Sales'], axis=1) \n",
    "\n",
    "#Create a list containing NA_Sales','EU_Sales','JP_Sales  to be used as target variables\n",
    "target_var=['NA_Sales','EU_Sales','JP_Sales']\n",
    "\n",
    "for target in target_var:    \n",
    "    y_NA = numeric_game_data[target]\n",
    "\n",
    "# Split data into training and testing sets\n",
    "    X_NA_train, X_NA_test, y_NA_train, y_NA_test = train_test_split(X_NA, y_NA, test_size=0.2, random_state=42)\n",
    "\n",
    "\n",
    "# Fitting the independent variables to the standard scaler \n",
    "    scaler = StandardScaler()\n",
    "    scaler.fit(X_NA_train) \n",
    "    X_NA_train_standard = scaler.transform(X_NA_train)\n",
    "    X_NA_test_standard = scaler.transform(X_NA_test)\n",
    "\n",
    "\n",
    " #Train the model using the training sets\n",
    "    reg = LinearRegression().fit(X_NA_train_standard, y_NA_train)\n",
    "    reg\n",
    "\n",
    "# Print coefficients\n",
    "    print(f\"{target}:{'Intercept:', reg.intercept_}\")\n",
    "    print(f\"{'Coefficients:', reg.coef_}\")\n",
    "\n",
    "\n",
    "    y_NA_pred = reg.predict(X_NA_test_standard)\n",
    "    len(y_NA_pred)\n",
    "\n",
    "\n",
    "\n",
    " #Print linear model\n",
    "    coefficients = reg.coef_\n",
    "    intercept = reg.intercept_\n",
    "    linear_model = 'target = {:.2f} + {:.2f}*Critic_Score + {:.2f}*Critic_Count + {:.2f}*User_Score + {:.2f}*User_Count'.format(intercept,coefficients[0],coefficients[1],coefficients[2],coefficients[3])\n",
    "#     print('\\n')\n",
    "    print(f'Multiple Linear Regression Model for {target} is: {linear_model}')\n",
    "\n",
    "\n",
    "# Calculate evaluation metrics\n",
    "# The coefficient of determination: 1 is perfect prediction\n",
    "    r2 = r2_score(y_NA_test, y_NA_pred)\n",
    "# The mean squared error\n",
    "    mse = mean_squared_error(y_NA_test, y_NA_pred)\n",
    "# The root mean squared error\n",
    "    rmse = np.sqrt(mse)\n",
    "#rmse2 = mean_squared_error(y_test, y_pred, squared=False)\n",
    "# The mean absolute error\n",
    "    mae = mean_absolute_error(y_NA_test, y_NA_pred)\n",
    "\n",
    "    \n",
    "    # Print evaluation metrics\n",
    "    print('\\n')\n",
    "    print('coefficient of determination (R-squared) is:', r2)\n",
    "    print('Mean Squared Error is:', mse)\n",
    "    print('Root Mean Squared Error is:', rmse)\n",
    "    print('Mean Absolute Error is:', mae)\n",
    "    \n",
    "    print('\\n')"
   ]
  },
  {
   "cell_type": "markdown",
   "id": "337d254b",
   "metadata": {
    "id": "337d254b"
   },
   "source": [
    "### Using All The Relevant Categorical Variables as Targets"
   ]
  },
  {
   "cell_type": "code",
   "execution_count": 48,
   "id": "9a5da926",
   "metadata": {
    "id": "9a5da926"
   },
   "outputs": [],
   "source": [
    "#Importing all necessary classifiers libraries\n",
    "\n",
    "from sklearn.preprocessing import OneHotEncoder\n",
    "from sklearn.tree import DecisionTreeClassifier\n",
    "from sklearn.metrics import classification_report, confusion_matrix\n",
    "from sklearn.preprocessing import LabelEncoder\n",
    "from sklearn.model_selection import cross_val_score\n",
    "from sklearn.model_selection import StratifiedKFold\n",
    "from sklearn.metrics import ConfusionMatrixDisplay\n",
    "from sklearn.preprocessing import MinMaxScaler "
   ]
  },
  {
   "cell_type": "code",
   "execution_count": 49,
   "id": "7120c438",
   "metadata": {
    "colab": {
     "base_uri": "https://localhost:8080/",
     "height": 424
    },
    "id": "7120c438",
    "outputId": "4db81bc8-301a-4bc1-e70a-2d13318aedc1"
   },
   "outputs": [
    {
     "data": {
      "text/html": [
       "<div>\n",
       "<style scoped>\n",
       "    .dataframe tbody tr th:only-of-type {\n",
       "        vertical-align: middle;\n",
       "    }\n",
       "\n",
       "    .dataframe tbody tr th {\n",
       "        vertical-align: top;\n",
       "    }\n",
       "\n",
       "    .dataframe thead th {\n",
       "        text-align: right;\n",
       "    }\n",
       "</style>\n",
       "<table border=\"1\" class=\"dataframe\">\n",
       "  <thead>\n",
       "    <tr style=\"text-align: right;\">\n",
       "      <th></th>\n",
       "      <th>Name</th>\n",
       "      <th>Platform</th>\n",
       "      <th>Genre</th>\n",
       "      <th>Publisher</th>\n",
       "      <th>Developer</th>\n",
       "      <th>Rating</th>\n",
       "    </tr>\n",
       "  </thead>\n",
       "  <tbody>\n",
       "    <tr>\n",
       "      <th>0</th>\n",
       "      <td>Wii Sports</td>\n",
       "      <td>Wii</td>\n",
       "      <td>Sports</td>\n",
       "      <td>Nintendo</td>\n",
       "      <td>Nintendo</td>\n",
       "      <td>E</td>\n",
       "    </tr>\n",
       "    <tr>\n",
       "      <th>1</th>\n",
       "      <td>Super Mario Bros.</td>\n",
       "      <td>plats</td>\n",
       "      <td>Platform</td>\n",
       "      <td>Nintendo</td>\n",
       "      <td>Unknown</td>\n",
       "      <td>Unknown</td>\n",
       "    </tr>\n",
       "    <tr>\n",
       "      <th>2</th>\n",
       "      <td>Mario Kart Wii</td>\n",
       "      <td>Wii</td>\n",
       "      <td>Racing</td>\n",
       "      <td>Nintendo</td>\n",
       "      <td>Nintendo</td>\n",
       "      <td>E</td>\n",
       "    </tr>\n",
       "    <tr>\n",
       "      <th>3</th>\n",
       "      <td>Wii Sports Resort</td>\n",
       "      <td>Wii</td>\n",
       "      <td>Sports</td>\n",
       "      <td>Nintendo</td>\n",
       "      <td>Nintendo</td>\n",
       "      <td>E</td>\n",
       "    </tr>\n",
       "    <tr>\n",
       "      <th>4</th>\n",
       "      <td>Pokemon Red/Pokemon Blue</td>\n",
       "      <td>plats</td>\n",
       "      <td>Role-Playing</td>\n",
       "      <td>Nintendo</td>\n",
       "      <td>Unknown</td>\n",
       "      <td>Unknown</td>\n",
       "    </tr>\n",
       "    <tr>\n",
       "      <th>...</th>\n",
       "      <td>...</td>\n",
       "      <td>...</td>\n",
       "      <td>...</td>\n",
       "      <td>...</td>\n",
       "      <td>...</td>\n",
       "      <td>...</td>\n",
       "    </tr>\n",
       "    <tr>\n",
       "      <th>16714</th>\n",
       "      <td>Samurai Warriors: Sanada Maru</td>\n",
       "      <td>PS3</td>\n",
       "      <td>Action</td>\n",
       "      <td>Tecmo Koei</td>\n",
       "      <td>Unknown</td>\n",
       "      <td>Unknown</td>\n",
       "    </tr>\n",
       "    <tr>\n",
       "      <th>16715</th>\n",
       "      <td>LMA Manager 2007</td>\n",
       "      <td>X360</td>\n",
       "      <td>Sports</td>\n",
       "      <td>Codemasters</td>\n",
       "      <td>Unknown</td>\n",
       "      <td>Unknown</td>\n",
       "    </tr>\n",
       "    <tr>\n",
       "      <th>16716</th>\n",
       "      <td>Haitaka no Psychedelica</td>\n",
       "      <td>plats</td>\n",
       "      <td>Adventure</td>\n",
       "      <td>Idea Factory</td>\n",
       "      <td>Unknown</td>\n",
       "      <td>Unknown</td>\n",
       "    </tr>\n",
       "    <tr>\n",
       "      <th>16717</th>\n",
       "      <td>Spirits &amp; Spells</td>\n",
       "      <td>GBA</td>\n",
       "      <td>Platform</td>\n",
       "      <td>Wanadoo</td>\n",
       "      <td>Unknown</td>\n",
       "      <td>Unknown</td>\n",
       "    </tr>\n",
       "    <tr>\n",
       "      <th>16718</th>\n",
       "      <td>Winning Post 8 2016</td>\n",
       "      <td>plats</td>\n",
       "      <td>Simulation</td>\n",
       "      <td>Tecmo Koei</td>\n",
       "      <td>Unknown</td>\n",
       "      <td>Unknown</td>\n",
       "    </tr>\n",
       "  </tbody>\n",
       "</table>\n",
       "<p>16719 rows × 6 columns</p>\n",
       "</div>"
      ],
      "text/plain": [
       "                                Name Platform         Genre     Publisher  \\\n",
       "0                         Wii Sports      Wii        Sports      Nintendo   \n",
       "1                  Super Mario Bros.    plats      Platform      Nintendo   \n",
       "2                     Mario Kart Wii      Wii        Racing      Nintendo   \n",
       "3                  Wii Sports Resort      Wii        Sports      Nintendo   \n",
       "4           Pokemon Red/Pokemon Blue    plats  Role-Playing      Nintendo   \n",
       "...                              ...      ...           ...           ...   \n",
       "16714  Samurai Warriors: Sanada Maru      PS3        Action    Tecmo Koei   \n",
       "16715               LMA Manager 2007     X360        Sports   Codemasters   \n",
       "16716        Haitaka no Psychedelica    plats     Adventure  Idea Factory   \n",
       "16717               Spirits & Spells      GBA      Platform       Wanadoo   \n",
       "16718            Winning Post 8 2016    plats    Simulation    Tecmo Koei   \n",
       "\n",
       "      Developer   Rating  \n",
       "0      Nintendo        E  \n",
       "1       Unknown  Unknown  \n",
       "2      Nintendo        E  \n",
       "3      Nintendo        E  \n",
       "4       Unknown  Unknown  \n",
       "...         ...      ...  \n",
       "16714   Unknown  Unknown  \n",
       "16715   Unknown  Unknown  \n",
       "16716   Unknown  Unknown  \n",
       "16717   Unknown  Unknown  \n",
       "16718   Unknown  Unknown  \n",
       "\n",
       "[16719 rows x 6 columns]"
      ]
     },
     "execution_count": 49,
     "metadata": {},
     "output_type": "execute_result"
    }
   ],
   "source": [
    "#Select only the Categorical columns from the dataset\n",
    "categorical_data =  game_sales_data.select_dtypes(include = \"object\")\n",
    "categorical_data"
   ]
  },
  {
   "cell_type": "code",
   "execution_count": 50,
   "id": "LRzHV7Nn21Sx",
   "metadata": {
    "colab": {
     "base_uri": "https://localhost:8080/",
     "height": 554
    },
    "id": "LRzHV7Nn21Sx",
    "outputId": "64015145-49a7-4ba2-b85d-f8c16672c16b"
   },
   "outputs": [],
   "source": [
    "# fig, ax_position=plt.subplots(1,2,figsize=(15,6),dpi=200) \n",
    "# a = sns.countplot(x = 'Rating', data = game_sales_data, ax=ax_position[0])\n",
    "# a = game_sales_data['Rating'].value_counts().plot.pie(autopct=\"%1.1f%%\", ax=ax_position[1]) "
   ]
  },
  {
   "cell_type": "code",
   "execution_count": 51,
   "id": "5843359e",
   "metadata": {
    "scrolled": true
   },
   "outputs": [
    {
     "data": {
      "image/png": "[encoded data removed]",
      "text/plain": [
       "<Figure size 2000x1200 with 1 Axes>"
      ]
     },
     "metadata": {
      "needs_background": "light"
     },
     "output_type": "display_data"
    }
   ],
   "source": [
    "#Checking to see the distribution of the unique values in the rating column\n",
    "fig, ax_position=plt.subplots(1,figsize=(10,6),dpi=200) \n",
    "Rating = sns.countplot(x = 'Rating', data = game_sales_data)\n",
    " \n",
    "    \n",
    "#Save the countplot as png image file\n",
    "plt.savefig('Rating.png')"
   ]
  },
  {
   "cell_type": "code",
   "execution_count": 52,
   "id": "6LfTuDmG3CMY",
   "metadata": {
    "colab": {
     "base_uri": "https://localhost:8080/",
     "height": 540
    },
    "id": "6LfTuDmG3CMY",
    "outputId": "1d85cf28-4837-46eb-a51d-75e4c84716b0"
   },
   "outputs": [
    {
     "data": {
      "image/png": "[encoded data removed]",
      "text/plain": [
       "<Figure size 2000x1200 with 1 Axes>"
      ]
     },
     "metadata": {
      "needs_background": "light"
     },
     "output_type": "display_data"
    }
   ],
   "source": [
    "ig, ax_position=plt.subplots(1, figsize=(10,6),dpi=200) \n",
    "Genre = sns.countplot(x = 'Genre', data = game_sales_data) \n",
    "\n",
    "#Save the countplot as png image file\n",
    "plt.savefig('Genre.png')"
   ]
  },
  {
   "cell_type": "code",
   "execution_count": 53,
   "id": "eBv5IfOy3Jdo",
   "metadata": {
    "colab": {
     "base_uri": "https://localhost:8080/",
     "height": 555
    },
    "id": "eBv5IfOy3Jdo",
    "outputId": "37c73ad1-a65f-40e1-f1c8-a5c19c5f4141"
   },
   "outputs": [
    {
     "data": {
      "image/png": "[encoded data removed]",
      "text/plain": [
       "<Figure size 2000x1200 with 1 Axes>"
      ]
     },
     "metadata": {
      "needs_background": "light"
     },
     "output_type": "display_data"
    }
   ],
   "source": [
    "ig, ax_position=plt.subplots(1,figsize=(10,6),dpi=200)\n",
    "Platform = sns.countplot(x = 'Platform', data = game_sales_data)\n",
    "plt.xticks(rotation=90)\n",
    "\n",
    "#Save the plot as png image file\n",
    "plt.savefig('Platform.png')"
   ]
  },
  {
   "cell_type": "code",
   "execution_count": 56,
   "id": "21e1a757",
   "metadata": {
    "colab": {
     "base_uri": "https://localhost:8080/",
     "height": 424
    },
    "id": "21e1a757",
    "outputId": "49e4764c-1724-4099-de87-0e2780337612"
   },
   "outputs": [
    {
     "data": {
      "text/html": [
       "<div>\n",
       "<style scoped>\n",
       "    .dataframe tbody tr th:only-of-type {\n",
       "        vertical-align: middle;\n",
       "    }\n",
       "\n",
       "    .dataframe tbody tr th {\n",
       "        vertical-align: top;\n",
       "    }\n",
       "\n",
       "    .dataframe thead th {\n",
       "        text-align: right;\n",
       "    }\n",
       "</style>\n",
       "<table border=\"1\" class=\"dataframe\">\n",
       "  <thead>\n",
       "    <tr style=\"text-align: right;\">\n",
       "      <th></th>\n",
       "      <th>Genre</th>\n",
       "      <th>Rating</th>\n",
       "      <th>Platform</th>\n",
       "    </tr>\n",
       "  </thead>\n",
       "  <tbody>\n",
       "    <tr>\n",
       "      <th>0</th>\n",
       "      <td>Sports</td>\n",
       "      <td>E</td>\n",
       "      <td>Wii</td>\n",
       "    </tr>\n",
       "    <tr>\n",
       "      <th>1</th>\n",
       "      <td>Platform</td>\n",
       "      <td>Unknown</td>\n",
       "      <td>plats</td>\n",
       "    </tr>\n",
       "    <tr>\n",
       "      <th>2</th>\n",
       "      <td>Racing</td>\n",
       "      <td>E</td>\n",
       "      <td>Wii</td>\n",
       "    </tr>\n",
       "    <tr>\n",
       "      <th>3</th>\n",
       "      <td>Sports</td>\n",
       "      <td>E</td>\n",
       "      <td>Wii</td>\n",
       "    </tr>\n",
       "    <tr>\n",
       "      <th>4</th>\n",
       "      <td>Role-Playing</td>\n",
       "      <td>Unknown</td>\n",
       "      <td>plats</td>\n",
       "    </tr>\n",
       "    <tr>\n",
       "      <th>...</th>\n",
       "      <td>...</td>\n",
       "      <td>...</td>\n",
       "      <td>...</td>\n",
       "    </tr>\n",
       "    <tr>\n",
       "      <th>16714</th>\n",
       "      <td>Action</td>\n",
       "      <td>Unknown</td>\n",
       "      <td>PS3</td>\n",
       "    </tr>\n",
       "    <tr>\n",
       "      <th>16715</th>\n",
       "      <td>Sports</td>\n",
       "      <td>Unknown</td>\n",
       "      <td>X360</td>\n",
       "    </tr>\n",
       "    <tr>\n",
       "      <th>16716</th>\n",
       "      <td>Adventure</td>\n",
       "      <td>Unknown</td>\n",
       "      <td>plats</td>\n",
       "    </tr>\n",
       "    <tr>\n",
       "      <th>16717</th>\n",
       "      <td>Platform</td>\n",
       "      <td>Unknown</td>\n",
       "      <td>GBA</td>\n",
       "    </tr>\n",
       "    <tr>\n",
       "      <th>16718</th>\n",
       "      <td>Simulation</td>\n",
       "      <td>Unknown</td>\n",
       "      <td>plats</td>\n",
       "    </tr>\n",
       "  </tbody>\n",
       "</table>\n",
       "<p>16719 rows × 3 columns</p>\n",
       "</div>"
      ],
      "text/plain": [
       "              Genre   Rating Platform\n",
       "0            Sports        E      Wii\n",
       "1          Platform  Unknown    plats\n",
       "2            Racing        E      Wii\n",
       "3            Sports        E      Wii\n",
       "4      Role-Playing  Unknown    plats\n",
       "...             ...      ...      ...\n",
       "16714        Action  Unknown      PS3\n",
       "16715        Sports  Unknown     X360\n",
       "16716     Adventure  Unknown    plats\n",
       "16717      Platform  Unknown      GBA\n",
       "16718    Simulation  Unknown    plats\n",
       "\n",
       "[16719 rows x 3 columns]"
      ]
     },
     "execution_count": 56,
     "metadata": {},
     "output_type": "execute_result"
    }
   ],
   "source": [
    "#Create a new dataframe containing only the categorical columns\n",
    "categorical_targets = categorical_data[['Genre', 'Rating','Platform']]\n",
    "categorical_targets"
   ]
  },
  {
   "cell_type": "code",
   "execution_count": 57,
   "id": "18cb87bf",
   "metadata": {
    "id": "18cb87bf"
   },
   "outputs": [],
   "source": [
    "#Concatinate the numerical dataset with our target categorical variables\n",
    "categorical_targets = categorical_targets.reset_index(drop=True)\n",
    "numeric_game_data = numeric_game_data.reset_index(drop=True)\n",
    "new_game_data = pd.concat([categorical_targets, numeric_game_data], axis=1)"
   ]
  },
  {
   "cell_type": "code",
   "execution_count": 58,
   "id": "5def18f4",
   "metadata": {
    "colab": {
     "base_uri": "https://localhost:8080/",
     "height": 485
    },
    "id": "5def18f4",
    "outputId": "4ca843ed-5499-4296-c709-bcdf8204308f"
   },
   "outputs": [
    {
     "data": {
      "text/html": [
       "<div>\n",
       "<style scoped>\n",
       "    .dataframe tbody tr th:only-of-type {\n",
       "        vertical-align: middle;\n",
       "    }\n",
       "\n",
       "    .dataframe tbody tr th {\n",
       "        vertical-align: top;\n",
       "    }\n",
       "\n",
       "    .dataframe thead th {\n",
       "        text-align: right;\n",
       "    }\n",
       "</style>\n",
       "<table border=\"1\" class=\"dataframe\">\n",
       "  <thead>\n",
       "    <tr style=\"text-align: right;\">\n",
       "      <th></th>\n",
       "      <th>Genre</th>\n",
       "      <th>Rating</th>\n",
       "      <th>Platform</th>\n",
       "      <th>Year_of_Release</th>\n",
       "      <th>NA_Sales</th>\n",
       "      <th>EU_Sales</th>\n",
       "      <th>JP_Sales</th>\n",
       "      <th>Other_Sales</th>\n",
       "      <th>Global_Sales</th>\n",
       "      <th>Critic_Score</th>\n",
       "      <th>Critic_Count</th>\n",
       "      <th>User_Score</th>\n",
       "      <th>User_Count</th>\n",
       "    </tr>\n",
       "  </thead>\n",
       "  <tbody>\n",
       "    <tr>\n",
       "      <th>0</th>\n",
       "      <td>Sports</td>\n",
       "      <td>E</td>\n",
       "      <td>Wii</td>\n",
       "      <td>2006</td>\n",
       "      <td>41.36</td>\n",
       "      <td>28.96</td>\n",
       "      <td>3.77</td>\n",
       "      <td>8.45</td>\n",
       "      <td>82.53</td>\n",
       "      <td>76.0</td>\n",
       "      <td>51</td>\n",
       "      <td>8.0</td>\n",
       "      <td>322.0</td>\n",
       "    </tr>\n",
       "    <tr>\n",
       "      <th>1</th>\n",
       "      <td>Platform</td>\n",
       "      <td>Unknown</td>\n",
       "      <td>plats</td>\n",
       "      <td>1985</td>\n",
       "      <td>29.08</td>\n",
       "      <td>3.58</td>\n",
       "      <td>6.81</td>\n",
       "      <td>0.77</td>\n",
       "      <td>40.24</td>\n",
       "      <td>0.0</td>\n",
       "      <td>0</td>\n",
       "      <td>0.0</td>\n",
       "      <td>24.0</td>\n",
       "    </tr>\n",
       "    <tr>\n",
       "      <th>2</th>\n",
       "      <td>Racing</td>\n",
       "      <td>E</td>\n",
       "      <td>Wii</td>\n",
       "      <td>2008</td>\n",
       "      <td>15.68</td>\n",
       "      <td>12.76</td>\n",
       "      <td>3.79</td>\n",
       "      <td>3.29</td>\n",
       "      <td>35.52</td>\n",
       "      <td>82.0</td>\n",
       "      <td>73</td>\n",
       "      <td>8.3</td>\n",
       "      <td>709.0</td>\n",
       "    </tr>\n",
       "    <tr>\n",
       "      <th>3</th>\n",
       "      <td>Sports</td>\n",
       "      <td>E</td>\n",
       "      <td>Wii</td>\n",
       "      <td>2009</td>\n",
       "      <td>15.61</td>\n",
       "      <td>10.93</td>\n",
       "      <td>3.28</td>\n",
       "      <td>2.95</td>\n",
       "      <td>32.77</td>\n",
       "      <td>80.0</td>\n",
       "      <td>73</td>\n",
       "      <td>8.0</td>\n",
       "      <td>192.0</td>\n",
       "    </tr>\n",
       "    <tr>\n",
       "      <th>4</th>\n",
       "      <td>Role-Playing</td>\n",
       "      <td>Unknown</td>\n",
       "      <td>plats</td>\n",
       "      <td>1996</td>\n",
       "      <td>11.27</td>\n",
       "      <td>8.89</td>\n",
       "      <td>10.22</td>\n",
       "      <td>1.00</td>\n",
       "      <td>31.37</td>\n",
       "      <td>0.0</td>\n",
       "      <td>0</td>\n",
       "      <td>0.0</td>\n",
       "      <td>24.0</td>\n",
       "    </tr>\n",
       "    <tr>\n",
       "      <th>...</th>\n",
       "      <td>...</td>\n",
       "      <td>...</td>\n",
       "      <td>...</td>\n",
       "      <td>...</td>\n",
       "      <td>...</td>\n",
       "      <td>...</td>\n",
       "      <td>...</td>\n",
       "      <td>...</td>\n",
       "      <td>...</td>\n",
       "      <td>...</td>\n",
       "      <td>...</td>\n",
       "      <td>...</td>\n",
       "      <td>...</td>\n",
       "    </tr>\n",
       "    <tr>\n",
       "      <th>16714</th>\n",
       "      <td>Action</td>\n",
       "      <td>Unknown</td>\n",
       "      <td>PS3</td>\n",
       "      <td>2016</td>\n",
       "      <td>0.00</td>\n",
       "      <td>0.00</td>\n",
       "      <td>0.01</td>\n",
       "      <td>0.00</td>\n",
       "      <td>0.01</td>\n",
       "      <td>0.0</td>\n",
       "      <td>0</td>\n",
       "      <td>0.0</td>\n",
       "      <td>24.0</td>\n",
       "    </tr>\n",
       "    <tr>\n",
       "      <th>16715</th>\n",
       "      <td>Sports</td>\n",
       "      <td>Unknown</td>\n",
       "      <td>X360</td>\n",
       "      <td>2006</td>\n",
       "      <td>0.00</td>\n",
       "      <td>0.01</td>\n",
       "      <td>0.00</td>\n",
       "      <td>0.00</td>\n",
       "      <td>0.01</td>\n",
       "      <td>0.0</td>\n",
       "      <td>0</td>\n",
       "      <td>0.0</td>\n",
       "      <td>24.0</td>\n",
       "    </tr>\n",
       "    <tr>\n",
       "      <th>16716</th>\n",
       "      <td>Adventure</td>\n",
       "      <td>Unknown</td>\n",
       "      <td>plats</td>\n",
       "      <td>2016</td>\n",
       "      <td>0.00</td>\n",
       "      <td>0.00</td>\n",
       "      <td>0.01</td>\n",
       "      <td>0.00</td>\n",
       "      <td>0.01</td>\n",
       "      <td>0.0</td>\n",
       "      <td>0</td>\n",
       "      <td>0.0</td>\n",
       "      <td>24.0</td>\n",
       "    </tr>\n",
       "    <tr>\n",
       "      <th>16717</th>\n",
       "      <td>Platform</td>\n",
       "      <td>Unknown</td>\n",
       "      <td>GBA</td>\n",
       "      <td>2003</td>\n",
       "      <td>0.01</td>\n",
       "      <td>0.00</td>\n",
       "      <td>0.00</td>\n",
       "      <td>0.00</td>\n",
       "      <td>0.01</td>\n",
       "      <td>0.0</td>\n",
       "      <td>0</td>\n",
       "      <td>0.0</td>\n",
       "      <td>24.0</td>\n",
       "    </tr>\n",
       "    <tr>\n",
       "      <th>16718</th>\n",
       "      <td>Simulation</td>\n",
       "      <td>Unknown</td>\n",
       "      <td>plats</td>\n",
       "      <td>2016</td>\n",
       "      <td>0.00</td>\n",
       "      <td>0.00</td>\n",
       "      <td>0.01</td>\n",
       "      <td>0.00</td>\n",
       "      <td>0.01</td>\n",
       "      <td>0.0</td>\n",
       "      <td>0</td>\n",
       "      <td>0.0</td>\n",
       "      <td>24.0</td>\n",
       "    </tr>\n",
       "  </tbody>\n",
       "</table>\n",
       "<p>16719 rows × 13 columns</p>\n",
       "</div>"
      ],
      "text/plain": [
       "              Genre   Rating Platform  Year_of_Release  NA_Sales  EU_Sales  \\\n",
       "0            Sports        E      Wii             2006     41.36     28.96   \n",
       "1          Platform  Unknown    plats             1985     29.08      3.58   \n",
       "2            Racing        E      Wii             2008     15.68     12.76   \n",
       "3            Sports        E      Wii             2009     15.61     10.93   \n",
       "4      Role-Playing  Unknown    plats             1996     11.27      8.89   \n",
       "...             ...      ...      ...              ...       ...       ...   \n",
       "16714        Action  Unknown      PS3             2016      0.00      0.00   \n",
       "16715        Sports  Unknown     X360             2006      0.00      0.01   \n",
       "16716     Adventure  Unknown    plats             2016      0.00      0.00   \n",
       "16717      Platform  Unknown      GBA             2003      0.01      0.00   \n",
       "16718    Simulation  Unknown    plats             2016      0.00      0.00   \n",
       "\n",
       "       JP_Sales  Other_Sales  Global_Sales  Critic_Score  Critic_Count  \\\n",
       "0          3.77         8.45         82.53          76.0            51   \n",
       "1          6.81         0.77         40.24           0.0             0   \n",
       "2          3.79         3.29         35.52          82.0            73   \n",
       "3          3.28         2.95         32.77          80.0            73   \n",
       "4         10.22         1.00         31.37           0.0             0   \n",
       "...         ...          ...           ...           ...           ...   \n",
       "16714      0.01         0.00          0.01           0.0             0   \n",
       "16715      0.00         0.00          0.01           0.0             0   \n",
       "16716      0.01         0.00          0.01           0.0             0   \n",
       "16717      0.00         0.00          0.01           0.0             0   \n",
       "16718      0.01         0.00          0.01           0.0             0   \n",
       "\n",
       "       User_Score  User_Count  \n",
       "0             8.0       322.0  \n",
       "1             0.0        24.0  \n",
       "2             8.3       709.0  \n",
       "3             8.0       192.0  \n",
       "4             0.0        24.0  \n",
       "...           ...         ...  \n",
       "16714         0.0        24.0  \n",
       "16715         0.0        24.0  \n",
       "16716         0.0        24.0  \n",
       "16717         0.0        24.0  \n",
       "16718         0.0        24.0  \n",
       "\n",
       "[16719 rows x 13 columns]"
      ]
     },
     "execution_count": 58,
     "metadata": {},
     "output_type": "execute_result"
    }
   ],
   "source": [
    "new_game_data"
   ]
  },
  {
   "cell_type": "markdown",
   "id": "_7k552ym_O0h",
   "metadata": {
    "id": "_7k552ym_O0h"
   },
   "source": [
    "Using Rating"
   ]
  },
  {
   "cell_type": "code",
   "execution_count": 59,
   "id": "36e87cfa",
   "metadata": {
    "id": "36e87cfa"
   },
   "outputs": [],
   "source": [
    "# #Assign dependent and independent variables\n",
    "# X = new_game_data.drop(['Rating','Genre','Platform'],  axis = 1) \n",
    "# y = new_game_data['Rating']"
   ]
  },
  {
   "cell_type": "code",
   "execution_count": 60,
   "id": "54d41e71",
   "metadata": {
    "id": "54d41e71"
   },
   "outputs": [],
   "source": [
    "#Import the modling and classifier libraries\n",
    "from sklearn.model_selection import StratifiedKFold\n",
    "from sklearn.model_selection import cross_val_score"
   ]
  },
  {
   "cell_type": "code",
   "execution_count": 187,
   "id": "18fb6481",
   "metadata": {},
   "outputs": [],
   "source": [
    "def classify_dataset(target_variable):\n",
    "    \"\"\"\n",
    "    Create a function to implement Classifier on the various target variables. This \n",
    "    function takes the column name as an argument.\n",
    "    \n",
    "    \"\"\"\n",
    "    #Assign dependent and independent variables\n",
    "    X = new_game_data.drop(['Rating','Genre','Platform'],  axis = 1) \n",
    "    y = new_game_data[target_variable]\n",
    "    \n",
    "    # Define the classifier\n",
    "    DTC = DecisionTreeClassifier()\n",
    "\n",
    "    # Define cross-validation strategy\n",
    "    cross_val = StratifiedKFold(n_splits=3, shuffle=True, random_state=42)\n",
    "\n",
    "    # Perform cross-validation on the dependent and target variables\n",
    "    scores = cross_val_score(DTC, X, y, cv=cross_val)\n",
    "\n",
    "    # Print mean and standard deviation of scores\n",
    "    print('\\n')\n",
    "    print(f'The Relevant Scores for {target_variable}')\n",
    "    print('Cross-validation scores: ', scores)\n",
    "    print('Mean score: ', scores.mean())\n",
    "    print('Standard deviation: ', scores.std())\n",
    "\n",
    "    # Fitting the classifier on the input and output data\n",
    "    DTC.fit(X, y)\n",
    "\n",
    "    # Make predictions on testing data\n",
    "    y_pred = DTC.predict(X)\n",
    "\n",
    "    # Print classification report\n",
    "    print('\\n')\n",
    "    print(f'Classification Report for {target_variable}', ':')\n",
    "    print(classification_report(y, y_pred))\n",
    "\n",
    "    # Print confusion matrix\n",
    "    print('\\n')\n",
    "    print(f'Confusion Matrix for {target_variable}', ':')\n",
    "    print(confusion_matrix(y, y_pred))\n",
    "    print('\\n')  \n",
    "\n",
    "    plt.figure(dpi=200, figsize=(12,15))\n",
    "    ConfusionMatrixDisplay.from_predictions(y, y_pred, display_labels=np.unique(y))\n",
    "    plt.show() \n"
   ]
  },
  {
   "cell_type": "markdown",
   "id": "a6512418",
   "metadata": {},
   "source": [
    "#### Generalization/Classification using Ratings"
   ]
  },
  {
   "cell_type": "code",
   "execution_count": 99,
   "id": "815d06e3",
   "metadata": {},
   "outputs": [
    {
     "name": "stdout",
     "output_type": "stream",
     "text": [
      "\n",
      "\n",
      "The Relevant Scores for Rating\n",
      "Cross-validation scores:  [0.61600574 0.60882828 0.60864884]\n",
      "Mean score:  0.611160954602548\n",
      "Standard deviation:  0.0034265651264794392\n",
      "\n",
      "\n",
      "Classification Report for Rating :\n",
      "              precision    recall  f1-score   support\n",
      "\n",
      "          AO       1.00      1.00      1.00         1\n",
      "           E       0.93      0.98      0.95      3991\n",
      "        E10+       0.98      0.94      0.96      1420\n",
      "          EC       1.00      0.62      0.77         8\n",
      "         K-A       1.00      1.00      1.00         3\n",
      "           M       1.00      0.99      1.00      1563\n",
      "          RP       1.00      1.00      1.00         3\n",
      "           T       0.99      0.97      0.98      2961\n",
      "     Unknown       0.98      0.97      0.97      6769\n",
      "\n",
      "    accuracy                           0.97     16719\n",
      "   macro avg       0.99      0.94      0.96     16719\n",
      "weighted avg       0.97      0.97      0.97     16719\n",
      "\n",
      "\n",
      "\n",
      "Confusion Matrix for Rating :\n",
      "[[   1    0    0    0    0    0    0    0    0]\n",
      " [   0 3902    4    0    0    0    0    0   85]\n",
      " [   0   61 1337    0    0    0    0    0   22]\n",
      " [   0    3    0    5    0    0    0    0    0]\n",
      " [   0    0    0    0    3    0    0    0    0]\n",
      " [   0    3    4    0    0 1553    0    0    3]\n",
      " [   0    0    0    0    0    0    3    0    0]\n",
      " [   0   52    7    0    0    0    0 2871   31]\n",
      " [   0  169   19    0    0    1    0   15 6565]]\n",
      "\n",
      "\n"
     ]
    },
    {
     "data": {
      "text/plain": [
       "<Figure size 3000x3000 with 0 Axes>"
      ]
     },
     "metadata": {},
     "output_type": "display_data"
    },
    {
     "data": {
      "image/png": "[encoded data removed]",
      "text/plain": [
       "<Figure size 432x288 with 2 Axes>"
      ]
     },
     "metadata": {
      "needs_background": "light"
     },
     "output_type": "display_data"
    }
   ],
   "source": [
    "classify_dataset('Rating')"
   ]
  },
  {
   "cell_type": "markdown",
   "id": "a2J5jXZxgj0h",
   "metadata": {
    "id": "a2J5jXZxgj0h"
   },
   "source": [
    "#### Generalization/Classification using Genre"
   ]
  },
  {
   "cell_type": "code",
   "execution_count": 97,
   "id": "6f7166a3",
   "metadata": {},
   "outputs": [
    {
     "name": "stdout",
     "output_type": "stream",
     "text": [
      "\n",
      "\n",
      "The Relevant Scores for Genre\n",
      "Cross-validation scores:  [0.22734613 0.22644895 0.22052754]\n",
      "Mean score:  0.22477420898379089\n",
      "Standard deviation:  0.0030251016487593233\n",
      "\n",
      "\n",
      "Classification Report for Genre :\n",
      "              precision    recall  f1-score   support\n",
      "\n",
      "      Action       0.82      0.94      0.88      3370\n",
      "   Adventure       0.59      0.83      0.69      1303\n",
      "    Fighting       0.86      0.84      0.85       849\n",
      "        Misc       0.76      0.80      0.78      1750\n",
      "    Platform       0.95      0.90      0.93       888\n",
      "      Puzzle       0.83      0.74      0.78       580\n",
      "      Racing       0.94      0.88      0.91      1249\n",
      "Role-Playing       0.90      0.78      0.84      1500\n",
      "     Shooter       0.98      0.90      0.94      1323\n",
      "  Simulation       0.91      0.73      0.81       874\n",
      "      Sports       0.95      0.83      0.89      2348\n",
      "    Strategy       0.95      0.73      0.83       683\n",
      "     Unknown       1.00      1.00      1.00         2\n",
      "\n",
      "    accuracy                           0.85     16719\n",
      "   macro avg       0.88      0.84      0.85     16719\n",
      "weighted avg       0.86      0.85      0.85     16719\n",
      "\n",
      "\n",
      "\n",
      "Confusion Matrix for Genre :\n",
      "[[3180  103    4   41    1    6    2   20    0    4    6    3    0]\n",
      " [ 141 1086    5   28    0    2    1   19    1    4   13    3    0]\n",
      " [  36   52  717   24    0    0    4    6    1    0    7    2    0]\n",
      " [ 107  167   17 1395    0    9    7   13    2   11   19    3    0]\n",
      " [  24   12    7   24  801    2    4    2    2    2    7    1    0]\n",
      " [  38   32    8   48    4  429    3    6    1    1    9    1    0]\n",
      " [  33   22    9   47   10   13 1095    1    4    5    9    1    0]\n",
      " [  97  138   22   42    8    8    4 1169    0    2    8    2    0]\n",
      " [  26   34    8   29    5   10    6    8 1191    1    4    1    0]\n",
      " [  47   67    8   66    1   16    7    5    2  639   13    3    0]\n",
      " [  81   83   21   84   10   16   27   34    7   22 1959    4    0]\n",
      " [  46   57   12   15    3    7    2   16    1   12   13  499    0]\n",
      " [   0    0    0    0    0    0    0    0    0    0    0    0    2]]\n",
      "\n",
      "\n"
     ]
    },
    {
     "data": {
      "text/plain": [
       "<Figure size 2400x3000 with 0 Axes>"
      ]
     },
     "metadata": {},
     "output_type": "display_data"
    },
    {
     "data": {
      "image/png": "[encoded data removed]",
      "text/plain": [
       "<Figure size 432x288 with 2 Axes>"
      ]
     },
     "metadata": {
      "needs_background": "light"
     },
     "output_type": "display_data"
    }
   ],
   "source": [
    "classify_dataset('Genre')"
   ]
  },
  {
   "cell_type": "markdown",
   "id": "IWmSJv28ig_R",
   "metadata": {
    "id": "IWmSJv28ig_R"
   },
   "source": [
    "#### Generalization/Classification using Platforms"
   ]
  },
  {
   "cell_type": "code",
   "execution_count": 101,
   "id": "7f8112f7",
   "metadata": {},
   "outputs": [
    {
     "name": "stdout",
     "output_type": "stream",
     "text": [
      "\n",
      "\n",
      "The Relevant Scores for Platform\n",
      "Cross-validation scores:  [0.59339673 0.59501166 0.57706801]\n",
      "Mean score:  0.5884921346970512\n",
      "Standard deviation:  0.00810493793951241\n",
      "\n",
      "\n",
      "Classification Report for Platform :\n",
      "              precision    recall  f1-score   support\n",
      "\n",
      "          DS       0.76      0.90      0.82      2152\n",
      "         GBA       0.93      0.97      0.95       822\n",
      "          PC       0.96      0.94      0.95       974\n",
      "          PS       0.99      0.99      0.99      1197\n",
      "         PS2       0.91      0.92      0.92      2161\n",
      "         PS3       0.96      0.85      0.90      1331\n",
      "         PSP       0.77      0.80      0.79      1209\n",
      "         Wii       0.94      0.81      0.87      1320\n",
      "        X360       0.98      0.90      0.94      1262\n",
      "          XB       0.99      0.97      0.98       824\n",
      "       plats       0.95      0.95      0.95      3467\n",
      "\n",
      "    accuracy                           0.91     16719\n",
      "   macro avg       0.92      0.91      0.91     16719\n",
      "weighted avg       0.92      0.91      0.91     16719\n",
      "\n",
      "\n",
      "\n",
      "Confusion Matrix for Platform :\n",
      "[[1927    4   11    0   75    2   87   37    7    0    2]\n",
      " [   6  801    0    2   11    0    0    0    0    1    1]\n",
      " [  28    2  915    0    2    0    0    6    9    0   12]\n",
      " [   1    0    0 1184    3    0    0    0    0    0    9]\n",
      " [ 133    5    1    2 1988    0   29    0    0    0    3]\n",
      " [  40    0    8    0    8 1135   50    2    2    0   86]\n",
      " [ 129    4    3    0   50   16  967    5    0    0   35]\n",
      " [ 192    1    9    0   19    5   16 1066    4    0    8]\n",
      " [  48    0    5    0    6    4   40   16 1140    0    3]\n",
      " [   0   22    0    0    2    0    0    0    0  800    0]\n",
      " [  18   22    6    9   14   21   59    8    5    5 3300]]\n",
      "\n",
      "\n"
     ]
    },
    {
     "data": {
      "text/plain": [
       "<Figure size 2400x3000 with 0 Axes>"
      ]
     },
     "metadata": {},
     "output_type": "display_data"
    },
    {
     "data": {
      "image/png": "[encoded data removed]",
      "text/plain": [
       "<Figure size 432x288 with 2 Axes>"
      ]
     },
     "metadata": {
      "needs_background": "light"
     },
     "output_type": "display_data"
    }
   ],
   "source": [
    "classify_dataset('Platform')"
   ]
  },
  {
   "cell_type": "markdown",
   "id": "w2JH_TkTLlrP",
   "metadata": {
    "id": "w2JH_TkTLlrP"
   },
   "source": [
    "##### PERFORMING CLUSTERING USING RELEVANT CATEGORICAL VARIABLES"
   ]
  },
  {
   "cell_type": "code",
   "execution_count": 167,
   "id": "zm-YlXCnUpGX",
   "metadata": {
    "id": "zm-YlXCnUpGX"
   },
   "outputs": [],
   "source": [
    "from sklearn.cluster import KMeans\n",
    "\n",
    "# Evaluate the clusters using Silhouette score\n",
    "# intrinsic metrics\n",
    "from sklearn.metrics import davies_bouldin_score, silhouette_score, calinski_harabasz_score\n",
    "## extrinsic metrics\n",
    "from sklearn.metrics import adjusted_rand_score, v_measure_score, adjusted_mutual_info_score"
   ]
  },
  {
   "cell_type": "markdown",
   "id": "n9TTQYr4nSNV",
   "metadata": {
    "id": "n9TTQYr4nSNV"
   },
   "source": [
    "#### USING RATING AS THE CATEGORICAL VARIABLE FOR CLUSTERING"
   ]
  },
  {
   "cell_type": "code",
   "execution_count": 188,
   "id": "1906b552",
   "metadata": {
    "scrolled": true
   },
   "outputs": [
    {
     "data": {
      "image/png": "[encoded data removed]",
      "text/plain": [
       "<Figure size 432x288 with 1 Axes>"
      ]
     },
     "metadata": {
      "needs_background": "light"
     },
     "output_type": "display_data"
    },
    {
     "data": {
      "text/plain": [
       "<Figure size 432x288 with 0 Axes>"
      ]
     },
     "metadata": {},
     "output_type": "display_data"
    }
   ],
   "source": [
    "# Select the relevant features for clustering\n",
    "X = new_game_data[['Rating', 'NA_Sales', 'EU_Sales', 'JP_Sales', 'Other_Sales']]\n",
    "\n",
    "# Convert the categorical feature to numerical using one-hot encoding\n",
    "X = pd.get_dummies(X, columns=['Rating'])\n",
    "\n",
    "\n",
    "# Get the true class labels\n",
    "y_true = new_game_data['Rating']\n",
    "\n",
    "#Using elbow method to get the number of clusters to use\n",
    "distortions = []\n",
    "K = range(1, 10)\n",
    "for k in K:\n",
    "    kmeans = KMeans(n_clusters=k)\n",
    "    kmeans.fit(X)\n",
    "    distortions.append(kmeans.inertia_)\n",
    "\n",
    "# Check the length of K and distortions lists\n",
    "assert len(K) == len(distortions)\n",
    "\n",
    "plt.plot(K, distortions, 'bx-')\n",
    "plt.xlabel('Number of clusters')\n",
    "plt.ylabel('Distortion')\n",
    "plt.title('Elbow Method For Optimal k')\n",
    "plt.show()\n",
    "\n",
    "\n",
    "#Save the plot as png image file\n",
    "plt.savefig('Rating_Elbow.png')"
   ]
  },
  {
   "cell_type": "markdown",
   "id": "c6521433",
   "metadata": {},
   "source": [
    "#### Evaluate and Print The Evaluation Metrics"
   ]
  },
  {
   "cell_type": "code",
   "execution_count": 185,
   "id": "m4apykbmb_cW",
   "metadata": {
    "colab": {
     "base_uri": "https://localhost:8080/"
    },
    "id": "m4apykbmb_cW",
    "outputId": "533c6ffe-9e47-4b2e-8bdc-b4a3cf140bf7"
   },
   "outputs": [
    {
     "name": "stdout",
     "output_type": "stream",
     "text": [
      "External Evaluation Measures\n",
      "********************************\n",
      "V-measure Score: 0.830\n",
      "Rand Index Score: 0.767\n",
      "Mutual Information Score: 0.830\n",
      "\n",
      "Internal Evaluation Measures\n",
      "********************************\n",
      "Davies-Bouldin Index: 1.214\n",
      "Silhouette Coefficient: 0.496\n",
      "Calinski Harabasz Score: 2251.438\n"
     ]
    }
   ],
   "source": [
    "\n",
    "# Scale the numerical features\n",
    "scaler = StandardScaler()\n",
    "X_scaled = scaler.fit_transform(X)\n",
    "\n",
    "\n",
    "# Fit the k-means algorithm using a cluster of 3\n",
    "kmeans = KMeans(n_clusters=3, random_state=42)\n",
    "C_labels = kmeans.fit_predict(X_scaled)\n",
    "\n",
    "\n",
    "# Calculate the v-measure score\n",
    "v_measure = v_measure_score(y_true, C_labels)\n",
    "print(f'External Evaluation Measures')\n",
    "print(f'********************************')\n",
    "print(f'V-measure Score: {v_measure:.3f}')\n",
    "\n",
    "# Calculate the Rand index score\n",
    "rand_index = adjusted_rand_score(y_true, C_labels)\n",
    "print(f'Rand Index Score: {rand_index:.3f}')\n",
    "\n",
    "# Calculate the mutual information score\n",
    "mi_score = adjusted_mutual_info_score(y_true, C_labels)\n",
    "print(f'Mutual Information Score: {mi_score:.3f}\\n')\n",
    "\n",
    "# Calculate the Davies-Bouldin index\n",
    "db_score = davies_bouldin_score(X_scaled, C_labels)\n",
    "print(f'Internal Evaluation Measures')\n",
    "print(f'********************************')\n",
    "print(f'Davies-Bouldin Index: {db_score:.3f}')\n",
    "\n",
    "# Calculate the Silhouette coefficient\n",
    "s_score = silhouette_score(X_scaled, C_labels)\n",
    "print(f'Silhouette Coefficient: {s_score:.3f}')\n",
    "c_score = calinski_harabasz_score(X_scaled, C_labels)\n",
    "print(f'Calinski Harabasz Score: {c_score:.3f}')\n",
    "\n"
   ]
  },
  {
   "cell_type": "markdown",
   "id": "nH4xH0hNrFgk",
   "metadata": {
    "id": "nH4xH0hNrFgk"
   },
   "source": [
    "##### USING GENRE AS THE CATEGORICAL VARIABLE FOR CLUSTERING"
   ]
  },
  {
   "cell_type": "code",
   "execution_count": 191,
   "id": "npBJfPmmoHSE",
   "metadata": {
    "colab": {
     "base_uri": "https://localhost:8080/",
     "height": 472
    },
    "id": "npBJfPmmoHSE",
    "outputId": "913afe37-13e3-4024-d395-0f1c4d368aaa"
   },
   "outputs": [
    {
     "data": {
      "image/png": "[encoded data removed]",
      "text/plain": [
       "<Figure size 432x288 with 1 Axes>"
      ]
     },
     "metadata": {
      "needs_background": "light"
     },
     "output_type": "display_data"
    },
    {
     "data": {
      "text/plain": [
       "<Figure size 432x288 with 0 Axes>"
      ]
     },
     "metadata": {},
     "output_type": "display_data"
    }
   ],
   "source": [
    "# Select the relevant features for clustering\n",
    "X = new_game_data[['Genre', 'NA_Sales', 'EU_Sales', 'JP_Sales', 'Other_Sales']]\n",
    "\n",
    "# Convert the categorical feature to numerical using one-hot encoding\n",
    "X = pd.get_dummies(X, columns=['Genre'])\n",
    "\n",
    "\n",
    "# Get the true class labels\n",
    "y_true = new_game_data['Genre']\n",
    "\n",
    "#Using elbow method to get the number of clusters to use\n",
    "distortions = []\n",
    "K = range(1, 10)\n",
    "for k in K:\n",
    "    kmeans = KMeans(n_clusters=k)\n",
    "    kmeans.fit(X)\n",
    "    distortions.append(kmeans.inertia_)\n",
    "\n",
    "# Check the length of K and distortions lists\n",
    "assert len(K) == len(distortions)\n",
    "\n",
    "plt.plot(K, distortions, 'bx-')\n",
    "plt.xlabel('Number of clusters')\n",
    "plt.ylabel('Distortion')\n",
    "plt.title('Elbow Method For Optimal k')\n",
    "plt.show()\n",
    "\n",
    "#Save the plot as png image file\n",
    "plt.savefig('Genre_Elbow.png')"
   ]
  },
  {
   "cell_type": "markdown",
   "id": "b69f3413",
   "metadata": {},
   "source": [
    "#### Evaluate and Print The Evaluation Metrics"
   ]
  },
  {
   "cell_type": "code",
   "execution_count": 192,
   "id": "ZPGWaBayrb0Z",
   "metadata": {
    "colab": {
     "base_uri": "https://localhost:8080/"
    },
    "id": "ZPGWaBayrb0Z",
    "outputId": "393624a2-8c04-4602-ecf1-354e4b68906d"
   },
   "outputs": [
    {
     "name": "stdout",
     "output_type": "stream",
     "text": [
      "External Evaluation Measures\n",
      "********************************\n",
      "V-measure Score: 0.436\n",
      "Rand Index Score: 0.130\n",
      "Mutual Information Score: 0.436\n",
      "\n",
      "Internal Evaluation Measures\n",
      "********************************\n",
      "Davies-Bouldin Index: 1.188\n",
      "Silhouette Coefficient: 0.182\n",
      "Calinski Harabasz Score: 1498.512\n"
     ]
    }
   ],
   "source": [
    "# Scale the numerical features\n",
    "scaler = StandardScaler()\n",
    "X_scaled = scaler.fit_transform(X)\n",
    "\n",
    "# Fit the k-means algorithm\n",
    "kmeans = KMeans(n_clusters=4, random_state=42)\n",
    "C_labels = kmeans.fit_predict(X_scaled)\n",
    "\n",
    "\n",
    "# Calculate the v-measure score\n",
    "v_measure = v_measure_score(y_true, C_labels)\n",
    "print(f'External Evaluation Measures')\n",
    "print(f'********************************')\n",
    "print(f'V-measure Score: {v_measure:.3f}')\n",
    "\n",
    "# Calculate the Rand index score\n",
    "rand_index = adjusted_rand_score(y_true, C_labels)\n",
    "print(f'Rand Index Score: {rand_index:.3f}')\n",
    "\n",
    "# Calculate the mutual information score\n",
    "mi_score = adjusted_mutual_info_score(y_true, C_labels)\n",
    "print(f'Mutual Information Score: {mi_score:.3f}\\n')\n",
    "\n",
    "# Calculate the Davies-Bouldin index\n",
    "db_score = davies_bouldin_score(X_scaled, C_labels)\n",
    "print(f'Internal Evaluation Measures')\n",
    "print(f'********************************')\n",
    "print(f'Davies-Bouldin Index: {db_score:.3f}')\n",
    "\n",
    "# Calculate the Silhouette coefficient\n",
    "s_score = silhouette_score(X_scaled, C_labels)\n",
    "print(f'Silhouette Coefficient: {s_score:.3f}')\n",
    "c_score = calinski_harabasz_score(X_scaled, C_labels)\n",
    "print(f'Calinski Harabasz Score: {c_score:.3f}')\n"
   ]
  },
  {
   "cell_type": "markdown",
   "id": "W14bV_NcspXT",
   "metadata": {
    "id": "W14bV_NcspXT"
   },
   "source": [
    "##### USING PLATFORM AS THE CATEGORICAL VARIABLE FOR CLUSTERING"
   ]
  },
  {
   "cell_type": "code",
   "execution_count": 190,
   "id": "yI9aPgf9rnSr",
   "metadata": {
    "colab": {
     "base_uri": "https://localhost:8080/",
     "height": 472
    },
    "id": "yI9aPgf9rnSr",
    "outputId": "88025a56-813f-4e1d-dea8-ccaa0186ac57"
   },
   "outputs": [
    {
     "data": {
      "image/png": "[encoded data removed]",
      "text/plain": [
       "<Figure size 432x288 with 1 Axes>"
      ]
     },
     "metadata": {
      "needs_background": "light"
     },
     "output_type": "display_data"
    },
    {
     "data": {
      "text/plain": [
       "<Figure size 432x288 with 0 Axes>"
      ]
     },
     "metadata": {},
     "output_type": "display_data"
    }
   ],
   "source": [
    "# Select the relevant features for clustering\n",
    "X = new_game_data[['Platform', 'NA_Sales', 'EU_Sales', 'JP_Sales', 'Other_Sales']]\n",
    "\n",
    "# Convert the categorical feature to numerical using one-hot encoding\n",
    "X = pd.get_dummies(X, columns=['Platform'])\n",
    "\n",
    "\n",
    "# Get the true class labels\n",
    "y_true = new_game_data['Platform']\n",
    "\n",
    "#using elbow method\n",
    "distortions = []\n",
    "K = range(1, 10)\n",
    "for k in K:\n",
    "    kmeans = KMeans(n_clusters=k)\n",
    "    kmeans.fit(X)\n",
    "    distortions.append(kmeans.inertia_)\n",
    "\n",
    "# Check the length of K and distortions lists\n",
    "assert len(K) == len(distortions)\n",
    "\n",
    "plt.plot(K, distortions, 'bx-')\n",
    "plt.xlabel('Number of clusters')\n",
    "plt.ylabel('Distortion')\n",
    "plt.title('Elbow Method For Optimal k')\n",
    "plt.show()\n",
    "\n",
    "#Save the plot as png image file\n",
    "plt.savefig('Platform_Elbow.png')"
   ]
  },
  {
   "cell_type": "code",
   "execution_count": 193,
   "id": "vL8OMMExuQMm",
   "metadata": {
    "colab": {
     "base_uri": "https://localhost:8080/"
    },
    "id": "vL8OMMExuQMm",
    "outputId": "84dd80f5-d6d8-47a0-9785-ddb158c4ec70"
   },
   "outputs": [
    {
     "name": "stdout",
     "output_type": "stream",
     "text": [
      "External Evaluation Measures\n",
      "********************************\n",
      "V-measure Score: 0.206\n",
      "Rand Index Score: 0.040\n",
      "Mutual Information Score: 0.206\n",
      "\n",
      "Internal Evaluation Measures\n",
      "********************************\n",
      "Davies-Bouldin Index: 0.996\n",
      "Silhouette Coefficient: 0.157\n",
      "Calinski Harabasz Score: 1407.687\n"
     ]
    }
   ],
   "source": [
    "# Scale the numerical features\n",
    "scaler = StandardScaler()\n",
    "X_scaled = scaler.fit_transform(X)\n",
    "\n",
    "\n",
    "# Fit the k-means algorithm\n",
    "kmeans = KMeans(n_clusters=3, random_state=42)\n",
    "C_labels = kmeans.fit_predict(X_scaled)\n",
    "\n",
    "\n",
    "# Calculate the v-measure score\n",
    "v_measure = v_measure_score(y_true, C_labels)\n",
    "print(f'External Evaluation Measures')\n",
    "print(f'********************************')\n",
    "print(f'V-measure Score: {v_measure:.3f}')\n",
    "# Calculate the Rand index score\n",
    "rand_index = adjusted_rand_score(y_true, C_labels)\n",
    "print(f'Rand Index Score: {rand_index:.3f}')\n",
    "# Calculate the mutual information score\n",
    "mi_score = adjusted_mutual_info_score(y_true, C_labels)\n",
    "print(f'Mutual Information Score: {mi_score:.3f}\\n')\n",
    "\n",
    "# Calculate the Davies-Bouldin index\n",
    "db_score = davies_bouldin_score(X_scaled, C_labels)\n",
    "print(f'Internal Evaluation Measures')\n",
    "print(f'********************************')\n",
    "print(f'Davies-Bouldin Index: {db_score:.3f}')\n",
    "# Calculate the Silhouette coefficient\n",
    "\n",
    "s_score = silhouette_score(X_scaled, C_labels)\n",
    "print(f'Silhouette Coefficient: {s_score:.3f}')\n",
    "c_score = calinski_harabasz_score(X_scaled, C_labels)\n",
    "print(f'Calinski Harabasz Score: {c_score:.3f}')\n"
   ]
  },
  {
   "cell_type": "code",
   "execution_count": null,
   "id": "OVC3NsfvuoX_",
   "metadata": {
    "id": "OVC3NsfvuoX_"
   },
   "outputs": [],
   "source": []
  }
 ],
 "metadata": {
  "colab": {
   "provenance": []
  },
  "kernelspec": {
   "display_name": "Python 3 (ipykernel)",
   "language": "python",
   "name": "python3"
  },
  "language_info": {
   "codemirror_mode": {
    "name": "ipython",
    "version": 3
   },
   "file_extension": ".py",
   "mimetype": "text/x-python",
   "name": "python",
   "nbconvert_exporter": "python",
   "pygments_lexer": "ipython3",
   "version": "3.12.0"
  }
 },
 "nbformat": 4,
 "nbformat_minor": 5
}
